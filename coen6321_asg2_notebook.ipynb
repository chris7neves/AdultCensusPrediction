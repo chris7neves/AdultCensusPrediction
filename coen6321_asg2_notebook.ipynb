{
 "cells": [
  {
   "cell_type": "code",
   "execution_count": 314,
   "id": "e356a292",
   "metadata": {},
   "outputs": [],
   "source": [
    "from pathlib import Path\n",
    "\n",
    "import matplotlib.pyplot as plt\n",
    "import pandas as pd\n",
    "import numpy as np\n",
    "import seaborn as sns\n",
    "\n",
    "from sklearn.model_selection import train_test_split\n",
    "from sklearn.metrics import precision_score, recall_score, roc_auc_score, roc_curve, precision_recall_curve, f1_score, auc\n",
    "from sklearn.metrics import confusion_matrix, classification_report\n",
    "from sklearn.ensemble import RandomForestClassifier\n",
    "from sklearn.model_selection import RandomizedSearchCV, GridSearchCV\n",
    "from sklearn.metrics import mean_squared_error\n",
    "from sklearn.preprocessing import StandardScaler"
   ]
  },
  {
   "cell_type": "code",
   "execution_count": 160,
   "id": "3c0effda",
   "metadata": {},
   "outputs": [],
   "source": [
    "# We cant always reliably get the path the ipynb is in, so cwd is the hacky workaround\n",
    "cwd = Path().absolute()\n",
    "DATA_DIR = cwd / \"data\"\n",
    "DATA_PATH = DATA_DIR / \"adult.data\"\n",
    "TEST_PATH = DATA_DIR / \"adult.test\""
   ]
  },
  {
   "cell_type": "markdown",
   "id": "7209d8ab",
   "metadata": {},
   "source": [
    "# Data exploration and cleaning"
   ]
  },
  {
   "cell_type": "markdown",
   "id": "8cd42586",
   "metadata": {},
   "source": [
    "Quick note of some ideas:\n",
    "- There are too many countries. Maybe just replace with a continent feature instead? Or with the countries gdp?\n",
    "- Occupation is present as well. Wouldnt that have an almost direct correlation with salary?"
   ]
  },
  {
   "cell_type": "markdown",
   "id": "bd58eba6",
   "metadata": {},
   "source": [
    "Start with adult.data. The same transforms will apply to adult.test"
   ]
  },
  {
   "cell_type": "code",
   "execution_count": 271,
   "id": "f03f964d",
   "metadata": {},
   "outputs": [],
   "source": [
    "adult_data = pd.read_csv(DATA_PATH, names=[\n",
    "    \"age\", \"workclass\", \"fnlwgt\", \"education\",\n",
    "    \"education-num\", \"marital-status\", \"occupation\",\n",
    "    \"relationship\", \"race\", \"sex\", \"capital-gain\",\n",
    "    \"capital-loss\", \"hours-per-week\", \"native-country\",\n",
    "    \"salary\"\n",
    "])\n",
    "\n",
    "adult_test = pd.read_csv(TEST_PATH, names=[\n",
    "    \"age\", \"workclass\", \"fnlwgt\", \"education\",\n",
    "    \"education-num\", \"marital-status\", \"occupation\",\n",
    "    \"relationship\", \"race\", \"sex\", \"capital-gain\",\n",
    "    \"capital-loss\", \"hours-per-week\", \"native-country\",\n",
    "    \"salary\"\n",
    "])\n",
    "\n",
    "# Drop first row of adult_test\n",
    "# adult_test.drop(labels=0, axis=0, inplace=True)"
   ]
  },
  {
   "cell_type": "code",
   "execution_count": 162,
   "id": "cc70753e",
   "metadata": {},
   "outputs": [
    {
     "data": {
      "text/html": [
       "<div>\n",
       "<style scoped>\n",
       "    .dataframe tbody tr th:only-of-type {\n",
       "        vertical-align: middle;\n",
       "    }\n",
       "\n",
       "    .dataframe tbody tr th {\n",
       "        vertical-align: top;\n",
       "    }\n",
       "\n",
       "    .dataframe thead th {\n",
       "        text-align: right;\n",
       "    }\n",
       "</style>\n",
       "<table border=\"1\" class=\"dataframe\">\n",
       "  <thead>\n",
       "    <tr style=\"text-align: right;\">\n",
       "      <th></th>\n",
       "      <th>age</th>\n",
       "      <th>workclass</th>\n",
       "      <th>fnlwgt</th>\n",
       "      <th>education</th>\n",
       "      <th>education-num</th>\n",
       "      <th>marital-status</th>\n",
       "      <th>occupation</th>\n",
       "      <th>relationship</th>\n",
       "      <th>race</th>\n",
       "      <th>sex</th>\n",
       "      <th>capital-gain</th>\n",
       "      <th>capital-loss</th>\n",
       "      <th>hours-per-week</th>\n",
       "      <th>native-country</th>\n",
       "      <th>salary</th>\n",
       "    </tr>\n",
       "  </thead>\n",
       "  <tbody>\n",
       "    <tr>\n",
       "      <th>0</th>\n",
       "      <td>39</td>\n",
       "      <td>State-gov</td>\n",
       "      <td>77516</td>\n",
       "      <td>Bachelors</td>\n",
       "      <td>13</td>\n",
       "      <td>Never-married</td>\n",
       "      <td>Adm-clerical</td>\n",
       "      <td>Not-in-family</td>\n",
       "      <td>White</td>\n",
       "      <td>Male</td>\n",
       "      <td>2174</td>\n",
       "      <td>0</td>\n",
       "      <td>40</td>\n",
       "      <td>United-States</td>\n",
       "      <td>&lt;=50K</td>\n",
       "    </tr>\n",
       "    <tr>\n",
       "      <th>1</th>\n",
       "      <td>50</td>\n",
       "      <td>Self-emp-not-inc</td>\n",
       "      <td>83311</td>\n",
       "      <td>Bachelors</td>\n",
       "      <td>13</td>\n",
       "      <td>Married-civ-spouse</td>\n",
       "      <td>Exec-managerial</td>\n",
       "      <td>Husband</td>\n",
       "      <td>White</td>\n",
       "      <td>Male</td>\n",
       "      <td>0</td>\n",
       "      <td>0</td>\n",
       "      <td>13</td>\n",
       "      <td>United-States</td>\n",
       "      <td>&lt;=50K</td>\n",
       "    </tr>\n",
       "    <tr>\n",
       "      <th>2</th>\n",
       "      <td>38</td>\n",
       "      <td>Private</td>\n",
       "      <td>215646</td>\n",
       "      <td>HS-grad</td>\n",
       "      <td>9</td>\n",
       "      <td>Divorced</td>\n",
       "      <td>Handlers-cleaners</td>\n",
       "      <td>Not-in-family</td>\n",
       "      <td>White</td>\n",
       "      <td>Male</td>\n",
       "      <td>0</td>\n",
       "      <td>0</td>\n",
       "      <td>40</td>\n",
       "      <td>United-States</td>\n",
       "      <td>&lt;=50K</td>\n",
       "    </tr>\n",
       "    <tr>\n",
       "      <th>3</th>\n",
       "      <td>53</td>\n",
       "      <td>Private</td>\n",
       "      <td>234721</td>\n",
       "      <td>11th</td>\n",
       "      <td>7</td>\n",
       "      <td>Married-civ-spouse</td>\n",
       "      <td>Handlers-cleaners</td>\n",
       "      <td>Husband</td>\n",
       "      <td>Black</td>\n",
       "      <td>Male</td>\n",
       "      <td>0</td>\n",
       "      <td>0</td>\n",
       "      <td>40</td>\n",
       "      <td>United-States</td>\n",
       "      <td>&lt;=50K</td>\n",
       "    </tr>\n",
       "    <tr>\n",
       "      <th>4</th>\n",
       "      <td>28</td>\n",
       "      <td>Private</td>\n",
       "      <td>338409</td>\n",
       "      <td>Bachelors</td>\n",
       "      <td>13</td>\n",
       "      <td>Married-civ-spouse</td>\n",
       "      <td>Prof-specialty</td>\n",
       "      <td>Wife</td>\n",
       "      <td>Black</td>\n",
       "      <td>Female</td>\n",
       "      <td>0</td>\n",
       "      <td>0</td>\n",
       "      <td>40</td>\n",
       "      <td>Cuba</td>\n",
       "      <td>&lt;=50K</td>\n",
       "    </tr>\n",
       "  </tbody>\n",
       "</table>\n",
       "</div>"
      ],
      "text/plain": [
       "   age          workclass  fnlwgt   education  education-num  \\\n",
       "0   39          State-gov   77516   Bachelors             13   \n",
       "1   50   Self-emp-not-inc   83311   Bachelors             13   \n",
       "2   38            Private  215646     HS-grad              9   \n",
       "3   53            Private  234721        11th              7   \n",
       "4   28            Private  338409   Bachelors             13   \n",
       "\n",
       "        marital-status          occupation    relationship    race      sex  \\\n",
       "0        Never-married        Adm-clerical   Not-in-family   White     Male   \n",
       "1   Married-civ-spouse     Exec-managerial         Husband   White     Male   \n",
       "2             Divorced   Handlers-cleaners   Not-in-family   White     Male   \n",
       "3   Married-civ-spouse   Handlers-cleaners         Husband   Black     Male   \n",
       "4   Married-civ-spouse      Prof-specialty            Wife   Black   Female   \n",
       "\n",
       "   capital-gain  capital-loss  hours-per-week  native-country  salary  \n",
       "0          2174             0              40   United-States   <=50K  \n",
       "1             0             0              13   United-States   <=50K  \n",
       "2             0             0              40   United-States   <=50K  \n",
       "3             0             0              40   United-States   <=50K  \n",
       "4             0             0              40            Cuba   <=50K  "
      ]
     },
     "execution_count": 162,
     "metadata": {},
     "output_type": "execute_result"
    }
   ],
   "source": [
    "adult_data.head()"
   ]
  },
  {
   "cell_type": "code",
   "execution_count": 163,
   "id": "49db3869",
   "metadata": {},
   "outputs": [
    {
     "name": "stdout",
     "output_type": "stream",
     "text": [
      "<class 'pandas.core.frame.DataFrame'>\n",
      "RangeIndex: 32561 entries, 0 to 32560\n",
      "Data columns (total 15 columns):\n",
      " #   Column          Non-Null Count  Dtype \n",
      "---  ------          --------------  ----- \n",
      " 0   age             32561 non-null  int64 \n",
      " 1   workclass       32561 non-null  object\n",
      " 2   fnlwgt          32561 non-null  int64 \n",
      " 3   education       32561 non-null  object\n",
      " 4   education-num   32561 non-null  int64 \n",
      " 5   marital-status  32561 non-null  object\n",
      " 6   occupation      32561 non-null  object\n",
      " 7   relationship    32561 non-null  object\n",
      " 8   race            32561 non-null  object\n",
      " 9   sex             32561 non-null  object\n",
      " 10  capital-gain    32561 non-null  int64 \n",
      " 11  capital-loss    32561 non-null  int64 \n",
      " 12  hours-per-week  32561 non-null  int64 \n",
      " 13  native-country  32561 non-null  object\n",
      " 14  salary          32561 non-null  object\n",
      "dtypes: int64(6), object(9)\n",
      "memory usage: 3.7+ MB\n"
     ]
    }
   ],
   "source": [
    "adult_data.info()"
   ]
  },
  {
   "cell_type": "code",
   "execution_count": 164,
   "id": "5e021779",
   "metadata": {},
   "outputs": [
    {
     "name": "stdout",
     "output_type": "stream",
     "text": [
      "<class 'pandas.core.frame.DataFrame'>\n",
      "RangeIndex: 16281 entries, 1 to 16281\n",
      "Data columns (total 15 columns):\n",
      " #   Column          Non-Null Count  Dtype  \n",
      "---  ------          --------------  -----  \n",
      " 0   age             16281 non-null  object \n",
      " 1   workclass       16281 non-null  object \n",
      " 2   fnlwgt          16281 non-null  float64\n",
      " 3   education       16281 non-null  object \n",
      " 4   education-num   16281 non-null  float64\n",
      " 5   marital-status  16281 non-null  object \n",
      " 6   occupation      16281 non-null  object \n",
      " 7   relationship    16281 non-null  object \n",
      " 8   race            16281 non-null  object \n",
      " 9   sex             16281 non-null  object \n",
      " 10  capital-gain    16281 non-null  float64\n",
      " 11  capital-loss    16281 non-null  float64\n",
      " 12  hours-per-week  16281 non-null  float64\n",
      " 13  native-country  16281 non-null  object \n",
      " 14  salary          16281 non-null  object \n",
      "dtypes: float64(5), object(10)\n",
      "memory usage: 1.9+ MB\n"
     ]
    }
   ],
   "source": [
    "adult_test.info()"
   ]
  },
  {
   "cell_type": "code",
   "execution_count": 165,
   "id": "bb6666c1",
   "metadata": {},
   "outputs": [
    {
     "data": {
      "text/plain": [
       "<AxesSubplot:>"
      ]
     },
     "execution_count": 165,
     "metadata": {},
     "output_type": "execute_result"
    },
    {
     "data": {
      "image/png": "[encoded data removed]",
      "text/plain": [
       "<Figure size 640x480 with 1 Axes>"
      ]
     },
     "metadata": {},
     "output_type": "display_data"
    }
   ],
   "source": [
    "adult_data[\"salary\"].hist()"
   ]
  },
  {
   "cell_type": "code",
   "execution_count": 166,
   "id": "571aae22",
   "metadata": {},
   "outputs": [
    {
     "data": {
      "text/plain": [
       "<AxesSubplot:>"
      ]
     },
     "execution_count": 166,
     "metadata": {},
     "output_type": "execute_result"
    },
    {
     "data": {
      "image/png": "[encoded data removed]",
      "text/plain": [
       "<Figure size 640x480 with 1 Axes>"
      ]
     },
     "metadata": {},
     "output_type": "display_data"
    }
   ],
   "source": [
    "adult_test[\"salary\"].hist()"
   ]
  },
  {
   "cell_type": "markdown",
   "id": "21990581",
   "metadata": {},
   "source": [
    "**Age**"
   ]
  },
  {
   "cell_type": "markdown",
   "id": "14d98f35",
   "metadata": {},
   "source": [
    "Check for missing values (denoted as ? in dataset)"
   ]
  },
  {
   "cell_type": "code",
   "execution_count": 167,
   "id": "135aea9c",
   "metadata": {},
   "outputs": [
    {
     "data": {
      "text/plain": [
       "0"
      ]
     },
     "execution_count": 167,
     "metadata": {},
     "output_type": "execute_result"
    }
   ],
   "source": [
    "adult_data.loc[adult_data[\"age\"] == '?'].count().sum()"
   ]
  },
  {
   "cell_type": "code",
   "execution_count": 168,
   "id": "a249508d",
   "metadata": {},
   "outputs": [
    {
     "data": {
      "text/plain": [
       "0"
      ]
     },
     "execution_count": 168,
     "metadata": {},
     "output_type": "execute_result"
    }
   ],
   "source": [
    "adult_test.loc[adult_data[\"age\"] == '?'].count().sum()"
   ]
  },
  {
   "cell_type": "code",
   "execution_count": 169,
   "id": "9f5732cd",
   "metadata": {},
   "outputs": [],
   "source": [
    "# Cast adult_test age to int64\n",
    "adult_test[\"age\"] = adult_test[\"age\"].astype(np.int64) "
   ]
  },
  {
   "cell_type": "markdown",
   "id": "2686a6e2",
   "metadata": {},
   "source": [
    "**workclass**"
   ]
  },
  {
   "cell_type": "code",
   "execution_count": 170,
   "id": "2f7cc986",
   "metadata": {},
   "outputs": [
    {
     "data": {
      "text/plain": [
       "array([' State-gov', ' Self-emp-not-inc', ' Private', ' Federal-gov',\n",
       "       ' Local-gov', ' ?', ' Self-emp-inc', ' Without-pay',\n",
       "       ' Never-worked'], dtype=object)"
      ]
     },
     "execution_count": 170,
     "metadata": {},
     "output_type": "execute_result"
    }
   ],
   "source": [
    "adult_data[\"workclass\"].unique()"
   ]
  },
  {
   "cell_type": "code",
   "execution_count": 171,
   "id": "d3fc19fb",
   "metadata": {},
   "outputs": [
    {
     "data": {
      "text/plain": [
       " Private             22696\n",
       " Self-emp-not-inc     2541\n",
       " Local-gov            2093\n",
       " ?                    1836\n",
       " State-gov            1298\n",
       " Self-emp-inc         1116\n",
       " Federal-gov           960\n",
       " Without-pay            14\n",
       " Never-worked            7\n",
       "Name: workclass, dtype: int64"
      ]
     },
     "execution_count": 171,
     "metadata": {},
     "output_type": "execute_result"
    }
   ],
   "source": [
    "adult_data[\"workclass\"].value_counts()"
   ]
  },
  {
   "cell_type": "code",
   "execution_count": 172,
   "id": "84582ea5",
   "metadata": {},
   "outputs": [
    {
     "data": {
      "text/plain": [
       " Private             11210\n",
       " Self-emp-not-inc     1321\n",
       " Local-gov            1043\n",
       " ?                     963\n",
       " State-gov             683\n",
       " Self-emp-inc          579\n",
       " Federal-gov           472\n",
       " Without-pay             7\n",
       " Never-worked            3\n",
       "Name: workclass, dtype: int64"
      ]
     },
     "execution_count": 172,
     "metadata": {},
     "output_type": "execute_result"
    }
   ],
   "source": [
    "adult_test[\"workclass\"].value_counts()"
   ]
  },
  {
   "cell_type": "markdown",
   "id": "6ec0f26e",
   "metadata": {},
   "source": [
    "I think we have more than enough data to be able to drop all ? classes"
   ]
  },
  {
   "cell_type": "code",
   "execution_count": 173,
   "id": "55200e27",
   "metadata": {},
   "outputs": [
    {
     "data": {
      "text/plain": [
       "<AxesSubplot:>"
      ]
     },
     "execution_count": 173,
     "metadata": {},
     "output_type": "execute_result"
    },
    {
     "data": {
      "image/png": "[encoded data removed]",
      "text/plain": [
       "<Figure size 640x480 with 1 Axes>"
      ]
     },
     "metadata": {},
     "output_type": "display_data"
    }
   ],
   "source": [
    "adult_data[adult_data[\"workclass\"].str.contains('\\?')][\"salary\"].hist()"
   ]
  },
  {
   "cell_type": "markdown",
   "id": "3b4e8ffc",
   "metadata": {},
   "source": [
    "The distribution of the rows we want to remove are similar to the distr of the pop as a whole (in terms of labels) so it should be ok."
   ]
  },
  {
   "cell_type": "code",
   "execution_count": 174,
   "id": "2f0f2bca",
   "metadata": {},
   "outputs": [
    {
     "data": {
      "text/plain": [
       "<AxesSubplot:>"
      ]
     },
     "execution_count": 174,
     "metadata": {},
     "output_type": "execute_result"
    },
    {
     "data": {
      "image/png": "[encoded data removed]",
      "text/plain": [
       "<Figure size 640x480 with 1 Axes>"
      ]
     },
     "metadata": {},
     "output_type": "display_data"
    }
   ],
   "source": [
    "adult_test[adult_test[\"workclass\"].str.contains('\\?')][\"salary\"].hist()"
   ]
  },
  {
   "cell_type": "markdown",
   "id": "91dbf88c",
   "metadata": {},
   "source": [
    "**fnlweight**"
   ]
  },
  {
   "cell_type": "markdown",
   "id": "f5fe1fd8",
   "metadata": {},
   "source": [
    "Description of fnlweight:  \n",
    "\n",
    "Description of fnlwgt (final weight)  \n",
    "<br>\n",
    "The weights on the CPS files are controlled to independent estimates of the  \n",
    "civilian noninstitutional population of the US.  These are prepared monthly  \n",
    "for us by Population Division here at the Census Bureau.  We use 3 sets of\n",
    "controls.  \n",
    "<br>\n",
    "These are:  \n",
    "         1.  A single cell estimate of the population 16+ for each state.  \n",
    "         2.  Controls for Hispanic Origin by age and sex.  \n",
    "         3.  Controls by Race, age and sex.  \n",
    "We use all three sets of controls in our weighting program and \"rake\" through  \n",
    "them 6 times so that by the end we come back to all the controls we used.  \n",
    "<br>\n",
    "The term estimate refers to population totals derived from CPS by creating  \n",
    "\"weighted tallies\" of any specified socio-economic characteristics of the  \n",
    "population.  \n",
    "<br>\n",
    "People with similar demographic characteristics should have  \n",
    "similar weights.  There is one important caveat to remember  \n",
    "about this statement.  That is that since the CPS sample is  \n",
    "actually a collection of 51 state samples, each with its own  \n",
    "probability of selection, the statement only applies within  \n",
    "state.  \n",
    "\n",
    "\n",
    "*So we need to figure out a way to only consider fnweight on state by state basis. Maybe standardize per state?*"
   ]
  },
  {
   "cell_type": "code",
   "execution_count": 175,
   "id": "04b69e06",
   "metadata": {},
   "outputs": [],
   "source": [
    "# adult_test has fnlweight as float instead of int, we need to change that\n",
    "adult_test[\"fnlwgt\"] = adult_test[\"fnlwgt\"].astype(np.int64)"
   ]
  },
  {
   "cell_type": "code",
   "execution_count": 176,
   "id": "6c19c366",
   "metadata": {},
   "outputs": [
    {
     "data": {
      "text/plain": [
       "0"
      ]
     },
     "execution_count": 176,
     "metadata": {},
     "output_type": "execute_result"
    }
   ],
   "source": [
    "adult_data[\"fnlwgt\"].isna().sum()"
   ]
  },
  {
   "cell_type": "code",
   "execution_count": 177,
   "id": "9bff9945",
   "metadata": {},
   "outputs": [
    {
     "data": {
      "text/plain": [
       "0"
      ]
     },
     "execution_count": 177,
     "metadata": {},
     "output_type": "execute_result"
    }
   ],
   "source": [
    "adult_test[\"fnlwgt\"].isna().sum()"
   ]
  },
  {
   "cell_type": "code",
   "execution_count": 178,
   "id": "7e1e1640",
   "metadata": {},
   "outputs": [
    {
     "data": {
      "text/plain": [
       "<AxesSubplot:>"
      ]
     },
     "execution_count": 178,
     "metadata": {},
     "output_type": "execute_result"
    },
    {
     "data": {
      "image/png": "[encoded data removed]",
      "text/plain": [
       "<Figure size 640x480 with 1 Axes>"
      ]
     },
     "metadata": {},
     "output_type": "display_data"
    }
   ],
   "source": [
    "adult_data[\"fnlwgt\"].hist(bins=100)"
   ]
  },
  {
   "cell_type": "code",
   "execution_count": 179,
   "id": "79ea6ea7",
   "metadata": {},
   "outputs": [
    {
     "data": {
      "text/plain": [
       "<AxesSubplot:>"
      ]
     },
     "execution_count": 179,
     "metadata": {},
     "output_type": "execute_result"
    },
    {
     "data": {
      "image/png": "[encoded data removed]",
      "text/plain": [
       "<Figure size 640x480 with 1 Axes>"
      ]
     },
     "metadata": {},
     "output_type": "display_data"
    }
   ],
   "source": [
    "adult_test[\"fnlwgt\"].hist(bins=100)"
   ]
  },
  {
   "cell_type": "markdown",
   "id": "ed863999",
   "metadata": {},
   "source": [
    "**education**"
   ]
  },
  {
   "cell_type": "code",
   "execution_count": 180,
   "id": "c8cbc751",
   "metadata": {},
   "outputs": [
    {
     "data": {
      "text/plain": [
       " HS-grad         10501\n",
       " Some-college     7291\n",
       " Bachelors        5355\n",
       " Masters          1723\n",
       " Assoc-voc        1382\n",
       " 11th             1175\n",
       " Assoc-acdm       1067\n",
       " 10th              933\n",
       " 7th-8th           646\n",
       " Prof-school       576\n",
       " 9th               514\n",
       " 12th              433\n",
       " Doctorate         413\n",
       " 5th-6th           333\n",
       " 1st-4th           168\n",
       " Preschool          51\n",
       "Name: education, dtype: int64"
      ]
     },
     "execution_count": 180,
     "metadata": {},
     "output_type": "execute_result"
    }
   ],
   "source": [
    "adult_data[\"education\"].value_counts()"
   ]
  },
  {
   "cell_type": "code",
   "execution_count": 181,
   "id": "5bd61e61",
   "metadata": {},
   "outputs": [
    {
     "data": {
      "text/plain": [
       "0"
      ]
     },
     "execution_count": 181,
     "metadata": {},
     "output_type": "execute_result"
    }
   ],
   "source": [
    "adult_data[\"education\"].isna().sum()"
   ]
  },
  {
   "cell_type": "code",
   "execution_count": 182,
   "id": "58d7b1f2",
   "metadata": {},
   "outputs": [
    {
     "data": {
      "text/plain": [
       " HS-grad         5283\n",
       " Some-college    3587\n",
       " Bachelors       2670\n",
       " Masters          934\n",
       " Assoc-voc        679\n",
       " 11th             637\n",
       " Assoc-acdm       534\n",
       " 10th             456\n",
       " 7th-8th          309\n",
       " Prof-school      258\n",
       " 9th              242\n",
       " 12th             224\n",
       " Doctorate        181\n",
       " 5th-6th          176\n",
       " 1st-4th           79\n",
       " Preschool         32\n",
       "Name: education, dtype: int64"
      ]
     },
     "execution_count": 182,
     "metadata": {},
     "output_type": "execute_result"
    }
   ],
   "source": [
    "adult_test[\"education\"].value_counts()"
   ]
  },
  {
   "cell_type": "code",
   "execution_count": 183,
   "id": "046b1083",
   "metadata": {},
   "outputs": [
    {
     "data": {
      "text/plain": [
       "0"
      ]
     },
     "execution_count": 183,
     "metadata": {},
     "output_type": "execute_result"
    }
   ],
   "source": [
    "adult_test[\"education\"].isna().sum()"
   ]
  },
  {
   "cell_type": "markdown",
   "id": "c83112a8",
   "metadata": {},
   "source": [
    "**education_num**"
   ]
  },
  {
   "cell_type": "code",
   "execution_count": 184,
   "id": "3403bba8",
   "metadata": {},
   "outputs": [
    {
     "name": "stdout",
     "output_type": "stream",
     "text": [
      "1\n",
      "[' Preschool']\n",
      "2\n",
      "[' 1st-4th']\n",
      "3\n",
      "[' 5th-6th']\n",
      "4\n",
      "[' 7th-8th']\n",
      "5\n",
      "[' 9th']\n",
      "6\n",
      "[' 10th']\n",
      "7\n",
      "[' 11th']\n",
      "8\n",
      "[' 12th']\n",
      "9\n",
      "[' HS-grad']\n",
      "10\n",
      "[' Some-college']\n",
      "11\n",
      "[' Assoc-voc']\n",
      "12\n",
      "[' Assoc-acdm']\n",
      "13\n",
      "[' Bachelors']\n",
      "14\n",
      "[' Masters']\n",
      "15\n",
      "[' Prof-school']\n",
      "16\n",
      "[' Doctorate']\n"
     ]
    }
   ],
   "source": [
    "grouped_adult = adult_data.groupby(\"education-num\")\n",
    "for group in grouped_adult:\n",
    "    print(group[0])\n",
    "    print(group[1][\"education\"].unique())"
   ]
  },
  {
   "cell_type": "code",
   "execution_count": 185,
   "id": "99f1fe87",
   "metadata": {},
   "outputs": [],
   "source": [
    "# So we can simply drop education, since education level already encodes for it"
   ]
  },
  {
   "cell_type": "code",
   "execution_count": 186,
   "id": "333d880e",
   "metadata": {},
   "outputs": [
    {
     "name": "stdout",
     "output_type": "stream",
     "text": [
      "1\n",
      "[' Preschool']\n",
      "2\n",
      "[' 1st-4th']\n",
      "3\n",
      "[' 5th-6th']\n",
      "4\n",
      "[' 7th-8th']\n",
      "5\n",
      "[' 9th']\n",
      "6\n",
      "[' 10th']\n",
      "7\n",
      "[' 11th']\n",
      "8\n",
      "[' 12th']\n",
      "9\n",
      "[' HS-grad']\n",
      "10\n",
      "[' Some-college']\n",
      "11\n",
      "[' Assoc-voc']\n",
      "12\n",
      "[' Assoc-acdm']\n",
      "13\n",
      "[' Bachelors']\n",
      "14\n",
      "[' Masters']\n",
      "15\n",
      "[' Prof-school']\n",
      "16\n",
      "[' Doctorate']\n"
     ]
    }
   ],
   "source": [
    "grouped_adult_test = adult_test.groupby(\"education-num\")\n",
    "for group in grouped_adult:\n",
    "    print(group[0])\n",
    "    print(group[1][\"education\"].unique())"
   ]
  },
  {
   "cell_type": "markdown",
   "id": "9ac28a66",
   "metadata": {},
   "source": [
    "**marital-status**"
   ]
  },
  {
   "cell_type": "markdown",
   "id": "11307223",
   "metadata": {},
   "source": [
    "If we want to perform feature reduction, we can probably do things like combining separated and married-spouse-absent or something. Though we might be losing some interesting information by doing that."
   ]
  },
  {
   "cell_type": "code",
   "execution_count": 187,
   "id": "301046f8",
   "metadata": {},
   "outputs": [
    {
     "data": {
      "text/plain": [
       "array([' Never-married', ' Married-civ-spouse', ' Divorced',\n",
       "       ' Married-spouse-absent', ' Separated', ' Married-AF-spouse',\n",
       "       ' Widowed'], dtype=object)"
      ]
     },
     "execution_count": 187,
     "metadata": {},
     "output_type": "execute_result"
    }
   ],
   "source": [
    "adult_data[\"marital-status\"].unique()"
   ]
  },
  {
   "cell_type": "code",
   "execution_count": 188,
   "id": "4aa57b05",
   "metadata": {},
   "outputs": [
    {
     "data": {
      "text/plain": [
       "0"
      ]
     },
     "execution_count": 188,
     "metadata": {},
     "output_type": "execute_result"
    }
   ],
   "source": [
    "adult_data[\"marital-status\"].isna().sum()"
   ]
  },
  {
   "cell_type": "code",
   "execution_count": 189,
   "id": "cbbc846c",
   "metadata": {},
   "outputs": [
    {
     "data": {
      "text/plain": [
       "array([' Never-married', ' Married-civ-spouse', ' Widowed', ' Divorced',\n",
       "       ' Separated', ' Married-spouse-absent', ' Married-AF-spouse'],\n",
       "      dtype=object)"
      ]
     },
     "execution_count": 189,
     "metadata": {},
     "output_type": "execute_result"
    }
   ],
   "source": [
    "adult_test[\"marital-status\"].unique()"
   ]
  },
  {
   "cell_type": "code",
   "execution_count": 190,
   "id": "9cf51fdb",
   "metadata": {},
   "outputs": [
    {
     "data": {
      "text/plain": [
       "0"
      ]
     },
     "execution_count": 190,
     "metadata": {},
     "output_type": "execute_result"
    }
   ],
   "source": [
    "adult_test[\"marital-status\"].isna().sum()"
   ]
  },
  {
   "cell_type": "markdown",
   "id": "1038ac77",
   "metadata": {},
   "source": [
    "**occupation**"
   ]
  },
  {
   "cell_type": "code",
   "execution_count": 191,
   "id": "00259642",
   "metadata": {},
   "outputs": [
    {
     "data": {
      "text/plain": [
       "array([' Adm-clerical', ' Exec-managerial', ' Handlers-cleaners',\n",
       "       ' Prof-specialty', ' Other-service', ' Sales', ' Craft-repair',\n",
       "       ' Transport-moving', ' Farming-fishing', ' Machine-op-inspct',\n",
       "       ' Tech-support', ' ?', ' Protective-serv', ' Armed-Forces',\n",
       "       ' Priv-house-serv'], dtype=object)"
      ]
     },
     "execution_count": 191,
     "metadata": {},
     "output_type": "execute_result"
    }
   ],
   "source": [
    "adult_data[\"occupation\"].unique()"
   ]
  },
  {
   "cell_type": "code",
   "execution_count": 192,
   "id": "479b92c5",
   "metadata": {},
   "outputs": [
    {
     "data": {
      "text/plain": [
       "<AxesSubplot:>"
      ]
     },
     "execution_count": 192,
     "metadata": {},
     "output_type": "execute_result"
    },
    {
     "data": {
      "image/png": "[encoded data removed]",
      "text/plain": [
       "<Figure size 640x480 with 1 Axes>"
      ]
     },
     "metadata": {},
     "output_type": "display_data"
    }
   ],
   "source": [
    "adult_data[adult_data[\"occupation\"].str.contains('\\?')][\"salary\"].hist()"
   ]
  },
  {
   "cell_type": "code",
   "execution_count": 193,
   "id": "98ade780",
   "metadata": {},
   "outputs": [
    {
     "data": {
      "text/plain": [
       "array([' Machine-op-inspct', ' Farming-fishing', ' Protective-serv', ' ?',\n",
       "       ' Other-service', ' Prof-specialty', ' Craft-repair',\n",
       "       ' Adm-clerical', ' Exec-managerial', ' Tech-support', ' Sales',\n",
       "       ' Priv-house-serv', ' Transport-moving', ' Handlers-cleaners',\n",
       "       ' Armed-Forces'], dtype=object)"
      ]
     },
     "execution_count": 193,
     "metadata": {},
     "output_type": "execute_result"
    }
   ],
   "source": [
    "adult_test[\"occupation\"].unique()"
   ]
  },
  {
   "cell_type": "code",
   "execution_count": 194,
   "id": "e0dd0b80",
   "metadata": {},
   "outputs": [
    {
     "data": {
      "text/plain": [
       "<AxesSubplot:>"
      ]
     },
     "execution_count": 194,
     "metadata": {},
     "output_type": "execute_result"
    },
    {
     "data": {
      "image/png": "[encoded data removed]",
      "text/plain": [
       "<Figure size 640x480 with 1 Axes>"
      ]
     },
     "metadata": {},
     "output_type": "display_data"
    }
   ],
   "source": [
    "adult_test[adult_test[\"occupation\"].str.contains('\\?')][\"salary\"].hist()"
   ]
  },
  {
   "cell_type": "markdown",
   "id": "90b7db35",
   "metadata": {},
   "source": [
    "We can drop all the ?"
   ]
  },
  {
   "cell_type": "markdown",
   "id": "f47cac07",
   "metadata": {},
   "source": [
    "**relationship**"
   ]
  },
  {
   "cell_type": "code",
   "execution_count": 195,
   "id": "2947e8ef",
   "metadata": {},
   "outputs": [
    {
     "data": {
      "text/plain": [
       "array([' Not-in-family', ' Husband', ' Wife', ' Own-child', ' Unmarried',\n",
       "       ' Other-relative'], dtype=object)"
      ]
     },
     "execution_count": 195,
     "metadata": {},
     "output_type": "execute_result"
    }
   ],
   "source": [
    "adult_data[\"relationship\"].unique()"
   ]
  },
  {
   "cell_type": "code",
   "execution_count": 196,
   "id": "d2ec6a12",
   "metadata": {},
   "outputs": [
    {
     "data": {
      "text/plain": [
       " Husband           13193\n",
       " Not-in-family      8305\n",
       " Own-child          5068\n",
       " Unmarried          3446\n",
       " Wife               1568\n",
       " Other-relative      981\n",
       "Name: relationship, dtype: int64"
      ]
     },
     "execution_count": 196,
     "metadata": {},
     "output_type": "execute_result"
    }
   ],
   "source": [
    "adult_data[\"relationship\"].value_counts()"
   ]
  },
  {
   "cell_type": "code",
   "execution_count": 197,
   "id": "e21af8a5",
   "metadata": {},
   "outputs": [
    {
     "data": {
      "text/plain": [
       "array([' Own-child', ' Husband', ' Not-in-family', ' Unmarried', ' Wife',\n",
       "       ' Other-relative'], dtype=object)"
      ]
     },
     "execution_count": 197,
     "metadata": {},
     "output_type": "execute_result"
    }
   ],
   "source": [
    "adult_test[\"relationship\"].unique()"
   ]
  },
  {
   "cell_type": "code",
   "execution_count": 198,
   "id": "9d3c5340",
   "metadata": {},
   "outputs": [
    {
     "data": {
      "text/plain": [
       " Husband           6523\n",
       " Not-in-family     4278\n",
       " Own-child         2513\n",
       " Unmarried         1679\n",
       " Wife               763\n",
       " Other-relative     525\n",
       "Name: relationship, dtype: int64"
      ]
     },
     "execution_count": 198,
     "metadata": {},
     "output_type": "execute_result"
    }
   ],
   "source": [
    "adult_test[\"relationship\"].value_counts()"
   ]
  },
  {
   "cell_type": "markdown",
   "id": "e581b673",
   "metadata": {},
   "source": [
    "**race**"
   ]
  },
  {
   "cell_type": "code",
   "execution_count": 199,
   "id": "3d111831",
   "metadata": {},
   "outputs": [
    {
     "data": {
      "text/plain": [
       " White                 27816\n",
       " Black                  3124\n",
       " Asian-Pac-Islander     1039\n",
       " Amer-Indian-Eskimo      311\n",
       " Other                   271\n",
       "Name: race, dtype: int64"
      ]
     },
     "execution_count": 199,
     "metadata": {},
     "output_type": "execute_result"
    }
   ],
   "source": [
    "adult_data[\"race\"].value_counts()"
   ]
  },
  {
   "cell_type": "markdown",
   "id": "8860e963",
   "metadata": {},
   "source": [
    "No need to drop ?"
   ]
  },
  {
   "cell_type": "code",
   "execution_count": 200,
   "id": "367627a3",
   "metadata": {},
   "outputs": [
    {
     "data": {
      "text/plain": [
       " White                 13946\n",
       " Black                  1561\n",
       " Asian-Pac-Islander      480\n",
       " Amer-Indian-Eskimo      159\n",
       " Other                   135\n",
       "Name: race, dtype: int64"
      ]
     },
     "execution_count": 200,
     "metadata": {},
     "output_type": "execute_result"
    }
   ],
   "source": [
    "adult_test[\"race\"].value_counts()"
   ]
  },
  {
   "cell_type": "markdown",
   "id": "e766ab11",
   "metadata": {},
   "source": [
    "**sex**"
   ]
  },
  {
   "cell_type": "code",
   "execution_count": 201,
   "id": "109e892b",
   "metadata": {},
   "outputs": [
    {
     "data": {
      "text/plain": [
       " Male      21790\n",
       " Female    10771\n",
       "Name: sex, dtype: int64"
      ]
     },
     "execution_count": 201,
     "metadata": {},
     "output_type": "execute_result"
    }
   ],
   "source": [
    "adult_data[\"sex\"].value_counts()"
   ]
  },
  {
   "cell_type": "code",
   "execution_count": 202,
   "id": "6c08cb18",
   "metadata": {},
   "outputs": [
    {
     "data": {
      "text/plain": [
       " Male      10860\n",
       " Female     5421\n",
       "Name: sex, dtype: int64"
      ]
     },
     "execution_count": 202,
     "metadata": {},
     "output_type": "execute_result"
    }
   ],
   "source": [
    "adult_test[\"sex\"].value_counts()"
   ]
  },
  {
   "cell_type": "markdown",
   "id": "0ba73703",
   "metadata": {},
   "source": [
    "**capital-gain**"
   ]
  },
  {
   "cell_type": "code",
   "execution_count": 203,
   "id": "21a2bf66",
   "metadata": {},
   "outputs": [
    {
     "data": {
      "text/plain": [
       "0"
      ]
     },
     "execution_count": 203,
     "metadata": {},
     "output_type": "execute_result"
    }
   ],
   "source": [
    "adult_data[\"capital-gain\"].isna().sum()"
   ]
  },
  {
   "cell_type": "code",
   "execution_count": 204,
   "id": "09cf9738",
   "metadata": {},
   "outputs": [
    {
     "data": {
      "text/plain": [
       "0"
      ]
     },
     "execution_count": 204,
     "metadata": {},
     "output_type": "execute_result"
    }
   ],
   "source": [
    "adult_test[\"capital-gain\"].isna().sum()"
   ]
  },
  {
   "cell_type": "markdown",
   "id": "f97e517a",
   "metadata": {},
   "source": [
    "**capital-loss**"
   ]
  },
  {
   "cell_type": "code",
   "execution_count": 205,
   "id": "be40c13f",
   "metadata": {},
   "outputs": [
    {
     "data": {
      "text/plain": [
       "0"
      ]
     },
     "execution_count": 205,
     "metadata": {},
     "output_type": "execute_result"
    }
   ],
   "source": [
    "adult_data[\"capital-loss\"].isna().sum()"
   ]
  },
  {
   "cell_type": "code",
   "execution_count": 206,
   "id": "30d302b8",
   "metadata": {},
   "outputs": [
    {
     "data": {
      "text/plain": [
       "0"
      ]
     },
     "execution_count": 206,
     "metadata": {},
     "output_type": "execute_result"
    }
   ],
   "source": [
    "adult_test[\"capital-loss\"].isna().sum()"
   ]
  },
  {
   "cell_type": "code",
   "execution_count": 207,
   "id": "395f6264",
   "metadata": {},
   "outputs": [
    {
     "data": {
      "text/plain": [
       "count    32561.000000\n",
       "mean        87.303830\n",
       "std        402.960219\n",
       "min          0.000000\n",
       "25%          0.000000\n",
       "50%          0.000000\n",
       "75%          0.000000\n",
       "max       4356.000000\n",
       "Name: capital-loss, dtype: float64"
      ]
     },
     "execution_count": 207,
     "metadata": {},
     "output_type": "execute_result"
    }
   ],
   "source": [
    "adult_data[\"capital-loss\"].describe()"
   ]
  },
  {
   "cell_type": "code",
   "execution_count": 208,
   "id": "352dc645",
   "metadata": {},
   "outputs": [
    {
     "data": {
      "text/plain": [
       "count    16281.000000\n",
       "mean        87.899269\n",
       "std        403.105286\n",
       "min          0.000000\n",
       "25%          0.000000\n",
       "50%          0.000000\n",
       "75%          0.000000\n",
       "max       3770.000000\n",
       "Name: capital-loss, dtype: float64"
      ]
     },
     "execution_count": 208,
     "metadata": {},
     "output_type": "execute_result"
    }
   ],
   "source": [
    "adult_test[\"capital-loss\"].describe()"
   ]
  },
  {
   "cell_type": "markdown",
   "id": "608662d0",
   "metadata": {},
   "source": [
    "**hours-per-week**"
   ]
  },
  {
   "cell_type": "code",
   "execution_count": 209,
   "id": "f26e6d94",
   "metadata": {},
   "outputs": [
    {
     "data": {
      "text/plain": [
       "0"
      ]
     },
     "execution_count": 209,
     "metadata": {},
     "output_type": "execute_result"
    }
   ],
   "source": [
    "adult_data[\"hours-per-week\"].isna().sum()"
   ]
  },
  {
   "cell_type": "code",
   "execution_count": 210,
   "id": "6587b0ad",
   "metadata": {},
   "outputs": [
    {
     "data": {
      "text/plain": [
       "count    32561.000000\n",
       "mean        40.437456\n",
       "std         12.347429\n",
       "min          1.000000\n",
       "25%         40.000000\n",
       "50%         40.000000\n",
       "75%         45.000000\n",
       "max         99.000000\n",
       "Name: hours-per-week, dtype: float64"
      ]
     },
     "execution_count": 210,
     "metadata": {},
     "output_type": "execute_result"
    }
   ],
   "source": [
    "adult_data[\"hours-per-week\"].describe()"
   ]
  },
  {
   "cell_type": "code",
   "execution_count": 211,
   "id": "82d2d151",
   "metadata": {},
   "outputs": [
    {
     "data": {
      "text/plain": [
       "0"
      ]
     },
     "execution_count": 211,
     "metadata": {},
     "output_type": "execute_result"
    }
   ],
   "source": [
    "adult_test[\"hours-per-week\"].isna().sum()"
   ]
  },
  {
   "cell_type": "code",
   "execution_count": 212,
   "id": "d75e216a",
   "metadata": {},
   "outputs": [
    {
     "data": {
      "text/plain": [
       "count    16281.000000\n",
       "mean        40.392236\n",
       "std         12.479332\n",
       "min          1.000000\n",
       "25%         40.000000\n",
       "50%         40.000000\n",
       "75%         45.000000\n",
       "max         99.000000\n",
       "Name: hours-per-week, dtype: float64"
      ]
     },
     "execution_count": 212,
     "metadata": {},
     "output_type": "execute_result"
    }
   ],
   "source": [
    "adult_test[\"hours-per-week\"].describe()"
   ]
  },
  {
   "cell_type": "markdown",
   "id": "92ca6fc3",
   "metadata": {},
   "source": [
    "**native-country**"
   ]
  },
  {
   "cell_type": "code",
   "execution_count": 213,
   "id": "9bb29be4",
   "metadata": {},
   "outputs": [
    {
     "data": {
      "text/plain": [
       " United-States                 29170\n",
       " Mexico                          643\n",
       " ?                               583\n",
       " Philippines                     198\n",
       " Germany                         137\n",
       " Canada                          121\n",
       " Puerto-Rico                     114\n",
       " El-Salvador                     106\n",
       " India                           100\n",
       " Cuba                             95\n",
       " England                          90\n",
       " Jamaica                          81\n",
       " South                            80\n",
       " China                            75\n",
       " Italy                            73\n",
       " Dominican-Republic               70\n",
       " Vietnam                          67\n",
       " Guatemala                        64\n",
       " Japan                            62\n",
       " Poland                           60\n",
       " Columbia                         59\n",
       " Taiwan                           51\n",
       " Haiti                            44\n",
       " Iran                             43\n",
       " Portugal                         37\n",
       " Nicaragua                        34\n",
       " Peru                             31\n",
       " France                           29\n",
       " Greece                           29\n",
       " Ecuador                          28\n",
       " Ireland                          24\n",
       " Hong                             20\n",
       " Cambodia                         19\n",
       " Trinadad&Tobago                  19\n",
       " Laos                             18\n",
       " Thailand                         18\n",
       " Yugoslavia                       16\n",
       " Outlying-US(Guam-USVI-etc)       14\n",
       " Honduras                         13\n",
       " Hungary                          13\n",
       " Scotland                         12\n",
       " Holand-Netherlands                1\n",
       "Name: native-country, dtype: int64"
      ]
     },
     "execution_count": 213,
     "metadata": {},
     "output_type": "execute_result"
    }
   ],
   "source": [
    "adult_data[\"native-country\"].value_counts()"
   ]
  },
  {
   "cell_type": "code",
   "execution_count": 214,
   "id": "93a74253",
   "metadata": {},
   "outputs": [
    {
     "data": {
      "text/plain": [
       "<AxesSubplot:>"
      ]
     },
     "execution_count": 214,
     "metadata": {},
     "output_type": "execute_result"
    },
    {
     "data": {
      "image/png": "[encoded data removed]",
      "text/plain": [
       "<Figure size 640x480 with 1 Axes>"
      ]
     },
     "metadata": {},
     "output_type": "display_data"
    }
   ],
   "source": [
    "adult_data[adult_data[\"native-country\"].str.contains('\\?')][\"salary\"].hist()"
   ]
  },
  {
   "cell_type": "code",
   "execution_count": 215,
   "id": "d9b229f9",
   "metadata": {},
   "outputs": [
    {
     "data": {
      "text/plain": [
       "<AxesSubplot:>"
      ]
     },
     "execution_count": 215,
     "metadata": {},
     "output_type": "execute_result"
    },
    {
     "data": {
      "image/png": "[encoded data removed]",
      "text/plain": [
       "<Figure size 640x480 with 1 Axes>"
      ]
     },
     "metadata": {},
     "output_type": "display_data"
    }
   ],
   "source": [
    "adult_test[adult_test[\"native-country\"].str.contains('\\?')][\"salary\"].hist()"
   ]
  },
  {
   "cell_type": "markdown",
   "id": "327e4b7e",
   "metadata": {},
   "source": [
    "# Preprocessing/Cleaning"
   ]
  },
  {
   "cell_type": "code",
   "execution_count": 272,
   "id": "6007da82",
   "metadata": {},
   "outputs": [],
   "source": [
    "def clean_adult(df):\n",
    "    \"\"\"\n",
    "    Used to clean both the adult.data and the adult.test files.\n",
    "    \n",
    "    Columns must be renamed on import.\n",
    "    \"\"\"\n",
    "\n",
    "    adf = df.copy()\n",
    "    \n",
    "    # Replace ? with np.nan\n",
    "    adf.replace({\"\\?\":np.nan}, regex=True, inplace=True)\n",
    "    \n",
    "    # Drop all rows with nans\n",
    "    before = len(adf)\n",
    "    adf.dropna(axis=0, inplace=True)\n",
    "    after = len(adf)\n",
    "    print(\"{} rows dropped due to missing data.\".format(before - after))\n",
    "    \n",
    "    # Make sure all datatypes are properly set\n",
    "    adf[\"age\"] = adf[\"age\"].astype(np.int64)\n",
    "    adf[\"fnlwgt\"] = adf[\"fnlwgt\"].astype(np.int64)\n",
    "    adf[\"education-num\"] = adf[\"education-num\"].astype(np.int64)\n",
    "    adf[\"capital-gain\"] = adf[\"capital-gain\"].astype(np.int64)\n",
    "    adf[\"capital-loss\"] = adf[\"capital-loss\"].astype(np.int64)\n",
    "    adf[\"hours-per-week\"] = adf[\"hours-per-week\"].astype(np.int64)\n",
    "    \n",
    "    return adf"
   ]
  },
  {
   "cell_type": "code",
   "execution_count": 317,
   "id": "fb47acf8",
   "metadata": {},
   "outputs": [],
   "source": [
    "def preprocess(df, one_hot=[], drop_education=True, scale=[]):\n",
    "    \"\"\"\n",
    "    NOTE: ONE HOT ENCODING SHOULD NOT BE USED WITH RANDOM FORESTS\n",
    "    https://towardsdatascience.com/one-hot-encoding-is-making-your-tree-based-ensembles-worse-heres-why-d64b282b5769\n",
    "    \"\"\"\n",
    "    \n",
    "    adf = df.copy()\n",
    "    \n",
    "    # Convert the labels for salary to 1 and 0\n",
    "    adf[\"salary\"].replace({\"<=50K\":0, \">50K\":1}, regex=True, inplace=True)\n",
    "    \n",
    "    # One hot encode all columns in one_hot\n",
    "    for col in one_hot:\n",
    "        temp = pd.get_dummies(adf[col])\n",
    "        adf = adf.drop(col, axis=1)\n",
    "        adf = adf.join(temp)\n",
    "        \n",
    "    # Drop the education column since it is already accounted for in education-num\n",
    "    if drop_education:\n",
    "        adf.drop(\"education\", axis=1, inplace=True)\n",
    "    \n",
    "    # Scale the desired columns (center values around the column mean and std)\n",
    "    if scale:\n",
    "        scaler = StandardScaler()\n",
    "        adf[scale] = scaler.fit_transform(adf[scale])\n",
    "    \n",
    "    return adf"
   ]
  },
  {
   "cell_type": "code",
   "execution_count": 327,
   "id": "a7d00c1c",
   "metadata": {},
   "outputs": [],
   "source": [
    "adult_data = pd.read_csv(DATA_PATH, names=[\n",
    "    \"age\", \"workclass\", \"fnlwgt\", \"education\",\n",
    "    \"education-num\", \"marital-status\", \"occupation\",\n",
    "    \"relationship\", \"race\", \"sex\", \"capital-gain\",\n",
    "    \"capital-loss\", \"hours-per-week\", \"native-country\",\n",
    "    \"salary\"\n",
    "])\n",
    "\n",
    "adult_test = pd.read_csv(TEST_PATH, names=[\n",
    "    \"age\", \"workclass\", \"fnlwgt\", \"education\",\n",
    "    \"education-num\", \"marital-status\", \"occupation\",\n",
    "    \"relationship\", \"race\", \"sex\", \"capital-gain\",\n",
    "    \"capital-loss\", \"hours-per-week\", \"native-country\",\n",
    "    \"salary\"\n",
    "])\n"
   ]
  },
  {
   "cell_type": "code",
   "execution_count": null,
   "id": "d9f213ec",
   "metadata": {},
   "outputs": [],
   "source": [
    "clean = clean_adult(adult_data)"
   ]
  },
  {
   "cell_type": "code",
   "execution_count": 331,
   "id": "a07d6b78",
   "metadata": {},
   "outputs": [],
   "source": [
    "dd = {\"hi\":\"by\"}\n",
    "dd = [\"f}\"]"
   ]
  },
  {
   "cell_type": "code",
   "execution_count": 332,
   "id": "d6ffa63c",
   "metadata": {},
   "outputs": [
    {
     "name": "stdout",
     "output_type": "stream",
     "text": [
      "hp\n"
     ]
    }
   ],
   "source": [
    "if type(dd) is not dict:\n",
    "    print(\"hp\")\n",
    "else:\n",
    "    print(\"lo\")"
   ]
  },
  {
   "cell_type": "code",
   "execution_count": null,
   "id": "ccbbb6f7",
   "metadata": {},
   "outputs": [],
   "source": []
  }
 ],
 "metadata": {
  "kernelspec": {
   "display_name": "Python 3 (ipykernel)",
   "language": "python",
   "name": "python3"
  },
  "language_info": {
   "codemirror_mode": {
    "name": "ipython",
    "version": 3
   },
   "file_extension": ".py",
   "mimetype": "text/x-python",
   "name": "python",
   "nbconvert_exporter": "python",
   "pygments_lexer": "ipython3",
   "version": "3.9.7"
  }
 },
 "nbformat": 4,
 "nbformat_minor": 5
}
