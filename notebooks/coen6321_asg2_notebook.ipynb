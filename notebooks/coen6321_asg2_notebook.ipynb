{
 "cells": [
  {
   "cell_type": "code",
   "execution_count": 3,
   "id": "e356a292",
   "metadata": {},
   "outputs": [],
   "source": [
    "from pathlib import Path\n",
    "\n",
    "import matplotlib.pyplot as plt\n",
    "import pandas as pd\n",
    "import numpy as np\n",
    "import seaborn as sns\n",
    "\n",
    "from sklearn.model_selection import train_test_split\n",
    "from sklearn.metrics import precision_score, recall_score, roc_auc_score, roc_curve, precision_recall_curve, f1_score, auc\n",
    "from sklearn.metrics import confusion_matrix, classification_report\n",
    "from sklearn.ensemble import RandomForestClassifier\n",
    "from sklearn.model_selection import RandomizedSearchCV, GridSearchCV\n",
    "from sklearn.metrics import mean_squared_error\n",
    "from sklearn.preprocessing import StandardScaler"
   ]
  },
  {
   "cell_type": "markdown",
   "id": "7209d8ab",
   "metadata": {},
   "source": [
    "# Data exploration and cleaning"
   ]
  },
  {
   "cell_type": "markdown",
   "id": "8cd42586",
   "metadata": {},
   "source": [
    "Quick note of some ideas:\n",
    "- There are too many countries. Maybe just replace with a continent feature instead? Or with the countries gdp?\n",
    "- Occupation is present as well. Wouldnt that have an almost direct correlation with salary?"
   ]
  },
  {
   "cell_type": "markdown",
   "id": "bd58eba6",
   "metadata": {},
   "source": [
    "Start with adult.data. The same transforms will apply to adult.test"
   ]
  },
  {
   "cell_type": "code",
   "execution_count": null,
   "id": "72f5d18f",
   "metadata": {},
   "outputs": [],
   "source": [
    "# We cant always reliably get the path the ipynb is in, so cwd is the hacky workaround\n",
    "cwd = Path().absolute()\n",
    "DATA_DIR = cwd / \"data\"\n",
    "DATA_PATH = DATA_DIR / \"adult.data\"\n",
    "TEST_PATH = DATA_DIR / \"adult.test\""
   ]
  },
  {
   "cell_type": "code",
   "execution_count": 5,
   "id": "f03f964d",
   "metadata": {},
   "outputs": [
    {
     "ename": "FileNotFoundError",
     "evalue": "[Errno 2] No such file or directory: 'F:\\\\Libraries\\\\Documents\\\\ALL\\\\School\\\\Masters\\\\Courses\\\\COEN6321_evolutionary_computing\\\\Assignments\\\\asg2\\\\AdultCensusPrediction\\\\notebooks\\\\data\\\\adult.data'",
     "output_type": "error",
     "traceback": [
      "\u001b[1;31m---------------------------------------------------------------------------\u001b[0m",
      "\u001b[1;31mFileNotFoundError\u001b[0m                         Traceback (most recent call last)",
      "Input \u001b[1;32mIn [5]\u001b[0m, in \u001b[0;36m<cell line: 1>\u001b[1;34m()\u001b[0m\n\u001b[1;32m----> 1\u001b[0m adult_data \u001b[38;5;241m=\u001b[39m \u001b[43mpd\u001b[49m\u001b[38;5;241;43m.\u001b[39;49m\u001b[43mread_csv\u001b[49m\u001b[43m(\u001b[49m\u001b[43mDATA_PATH\u001b[49m\u001b[43m,\u001b[49m\u001b[43m \u001b[49m\u001b[43mnames\u001b[49m\u001b[38;5;241;43m=\u001b[39;49m\u001b[43m[\u001b[49m\n\u001b[0;32m      2\u001b[0m \u001b[43m    \u001b[49m\u001b[38;5;124;43m\"\u001b[39;49m\u001b[38;5;124;43mage\u001b[39;49m\u001b[38;5;124;43m\"\u001b[39;49m\u001b[43m,\u001b[49m\u001b[43m \u001b[49m\u001b[38;5;124;43m\"\u001b[39;49m\u001b[38;5;124;43mworkclass\u001b[39;49m\u001b[38;5;124;43m\"\u001b[39;49m\u001b[43m,\u001b[49m\u001b[43m \u001b[49m\u001b[38;5;124;43m\"\u001b[39;49m\u001b[38;5;124;43mfnlwgt\u001b[39;49m\u001b[38;5;124;43m\"\u001b[39;49m\u001b[43m,\u001b[49m\u001b[43m \u001b[49m\u001b[38;5;124;43m\"\u001b[39;49m\u001b[38;5;124;43meducation\u001b[39;49m\u001b[38;5;124;43m\"\u001b[39;49m\u001b[43m,\u001b[49m\n\u001b[0;32m      3\u001b[0m \u001b[43m    \u001b[49m\u001b[38;5;124;43m\"\u001b[39;49m\u001b[38;5;124;43meducation-num\u001b[39;49m\u001b[38;5;124;43m\"\u001b[39;49m\u001b[43m,\u001b[49m\u001b[43m \u001b[49m\u001b[38;5;124;43m\"\u001b[39;49m\u001b[38;5;124;43mmarital-status\u001b[39;49m\u001b[38;5;124;43m\"\u001b[39;49m\u001b[43m,\u001b[49m\u001b[43m \u001b[49m\u001b[38;5;124;43m\"\u001b[39;49m\u001b[38;5;124;43moccupation\u001b[39;49m\u001b[38;5;124;43m\"\u001b[39;49m\u001b[43m,\u001b[49m\n\u001b[0;32m      4\u001b[0m \u001b[43m    \u001b[49m\u001b[38;5;124;43m\"\u001b[39;49m\u001b[38;5;124;43mrelationship\u001b[39;49m\u001b[38;5;124;43m\"\u001b[39;49m\u001b[43m,\u001b[49m\u001b[43m \u001b[49m\u001b[38;5;124;43m\"\u001b[39;49m\u001b[38;5;124;43mrace\u001b[39;49m\u001b[38;5;124;43m\"\u001b[39;49m\u001b[43m,\u001b[49m\u001b[43m \u001b[49m\u001b[38;5;124;43m\"\u001b[39;49m\u001b[38;5;124;43msex\u001b[39;49m\u001b[38;5;124;43m\"\u001b[39;49m\u001b[43m,\u001b[49m\u001b[43m \u001b[49m\u001b[38;5;124;43m\"\u001b[39;49m\u001b[38;5;124;43mcapital-gain\u001b[39;49m\u001b[38;5;124;43m\"\u001b[39;49m\u001b[43m,\u001b[49m\n\u001b[0;32m      5\u001b[0m \u001b[43m    \u001b[49m\u001b[38;5;124;43m\"\u001b[39;49m\u001b[38;5;124;43mcapital-loss\u001b[39;49m\u001b[38;5;124;43m\"\u001b[39;49m\u001b[43m,\u001b[49m\u001b[43m \u001b[49m\u001b[38;5;124;43m\"\u001b[39;49m\u001b[38;5;124;43mhours-per-week\u001b[39;49m\u001b[38;5;124;43m\"\u001b[39;49m\u001b[43m,\u001b[49m\u001b[43m \u001b[49m\u001b[38;5;124;43m\"\u001b[39;49m\u001b[38;5;124;43mnative-country\u001b[39;49m\u001b[38;5;124;43m\"\u001b[39;49m\u001b[43m,\u001b[49m\n\u001b[0;32m      6\u001b[0m \u001b[43m    \u001b[49m\u001b[38;5;124;43m\"\u001b[39;49m\u001b[38;5;124;43msalary\u001b[39;49m\u001b[38;5;124;43m\"\u001b[39;49m\n\u001b[0;32m      7\u001b[0m \u001b[43m]\u001b[49m\u001b[43m)\u001b[49m\n\u001b[0;32m      9\u001b[0m adult_test \u001b[38;5;241m=\u001b[39m pd\u001b[38;5;241m.\u001b[39mread_csv(TEST_PATH, names\u001b[38;5;241m=\u001b[39m[\n\u001b[0;32m     10\u001b[0m     \u001b[38;5;124m\"\u001b[39m\u001b[38;5;124mage\u001b[39m\u001b[38;5;124m\"\u001b[39m, \u001b[38;5;124m\"\u001b[39m\u001b[38;5;124mworkclass\u001b[39m\u001b[38;5;124m\"\u001b[39m, \u001b[38;5;124m\"\u001b[39m\u001b[38;5;124mfnlwgt\u001b[39m\u001b[38;5;124m\"\u001b[39m, \u001b[38;5;124m\"\u001b[39m\u001b[38;5;124meducation\u001b[39m\u001b[38;5;124m\"\u001b[39m,\n\u001b[0;32m     11\u001b[0m     \u001b[38;5;124m\"\u001b[39m\u001b[38;5;124meducation-num\u001b[39m\u001b[38;5;124m\"\u001b[39m, \u001b[38;5;124m\"\u001b[39m\u001b[38;5;124mmarital-status\u001b[39m\u001b[38;5;124m\"\u001b[39m, \u001b[38;5;124m\"\u001b[39m\u001b[38;5;124moccupation\u001b[39m\u001b[38;5;124m\"\u001b[39m,\n\u001b[1;32m   (...)\u001b[0m\n\u001b[0;32m     14\u001b[0m     \u001b[38;5;124m\"\u001b[39m\u001b[38;5;124msalary\u001b[39m\u001b[38;5;124m\"\u001b[39m\n\u001b[0;32m     15\u001b[0m ])\n",
      "File \u001b[1;32mC:\\ProgramData\\Anaconda3\\lib\\site-packages\\pandas\\util\\_decorators.py:311\u001b[0m, in \u001b[0;36mdeprecate_nonkeyword_arguments.<locals>.decorate.<locals>.wrapper\u001b[1;34m(*args, **kwargs)\u001b[0m\n\u001b[0;32m    305\u001b[0m \u001b[38;5;28;01mif\u001b[39;00m \u001b[38;5;28mlen\u001b[39m(args) \u001b[38;5;241m>\u001b[39m num_allow_args:\n\u001b[0;32m    306\u001b[0m     warnings\u001b[38;5;241m.\u001b[39mwarn(\n\u001b[0;32m    307\u001b[0m         msg\u001b[38;5;241m.\u001b[39mformat(arguments\u001b[38;5;241m=\u001b[39marguments),\n\u001b[0;32m    308\u001b[0m         \u001b[38;5;167;01mFutureWarning\u001b[39;00m,\n\u001b[0;32m    309\u001b[0m         stacklevel\u001b[38;5;241m=\u001b[39mstacklevel,\n\u001b[0;32m    310\u001b[0m     )\n\u001b[1;32m--> 311\u001b[0m \u001b[38;5;28;01mreturn\u001b[39;00m func(\u001b[38;5;241m*\u001b[39margs, \u001b[38;5;241m*\u001b[39m\u001b[38;5;241m*\u001b[39mkwargs)\n",
      "File \u001b[1;32mC:\\ProgramData\\Anaconda3\\lib\\site-packages\\pandas\\io\\parsers\\readers.py:678\u001b[0m, in \u001b[0;36mread_csv\u001b[1;34m(filepath_or_buffer, sep, delimiter, header, names, index_col, usecols, squeeze, prefix, mangle_dupe_cols, dtype, engine, converters, true_values, false_values, skipinitialspace, skiprows, skipfooter, nrows, na_values, keep_default_na, na_filter, verbose, skip_blank_lines, parse_dates, infer_datetime_format, keep_date_col, date_parser, dayfirst, cache_dates, iterator, chunksize, compression, thousands, decimal, lineterminator, quotechar, quoting, doublequote, escapechar, comment, encoding, encoding_errors, dialect, error_bad_lines, warn_bad_lines, on_bad_lines, delim_whitespace, low_memory, memory_map, float_precision, storage_options)\u001b[0m\n\u001b[0;32m    663\u001b[0m kwds_defaults \u001b[38;5;241m=\u001b[39m _refine_defaults_read(\n\u001b[0;32m    664\u001b[0m     dialect,\n\u001b[0;32m    665\u001b[0m     delimiter,\n\u001b[1;32m   (...)\u001b[0m\n\u001b[0;32m    674\u001b[0m     defaults\u001b[38;5;241m=\u001b[39m{\u001b[38;5;124m\"\u001b[39m\u001b[38;5;124mdelimiter\u001b[39m\u001b[38;5;124m\"\u001b[39m: \u001b[38;5;124m\"\u001b[39m\u001b[38;5;124m,\u001b[39m\u001b[38;5;124m\"\u001b[39m},\n\u001b[0;32m    675\u001b[0m )\n\u001b[0;32m    676\u001b[0m kwds\u001b[38;5;241m.\u001b[39mupdate(kwds_defaults)\n\u001b[1;32m--> 678\u001b[0m \u001b[38;5;28;01mreturn\u001b[39;00m \u001b[43m_read\u001b[49m\u001b[43m(\u001b[49m\u001b[43mfilepath_or_buffer\u001b[49m\u001b[43m,\u001b[49m\u001b[43m \u001b[49m\u001b[43mkwds\u001b[49m\u001b[43m)\u001b[49m\n",
      "File \u001b[1;32mC:\\ProgramData\\Anaconda3\\lib\\site-packages\\pandas\\io\\parsers\\readers.py:575\u001b[0m, in \u001b[0;36m_read\u001b[1;34m(filepath_or_buffer, kwds)\u001b[0m\n\u001b[0;32m    572\u001b[0m _validate_names(kwds\u001b[38;5;241m.\u001b[39mget(\u001b[38;5;124m\"\u001b[39m\u001b[38;5;124mnames\u001b[39m\u001b[38;5;124m\"\u001b[39m, \u001b[38;5;28;01mNone\u001b[39;00m))\n\u001b[0;32m    574\u001b[0m \u001b[38;5;66;03m# Create the parser.\u001b[39;00m\n\u001b[1;32m--> 575\u001b[0m parser \u001b[38;5;241m=\u001b[39m TextFileReader(filepath_or_buffer, \u001b[38;5;241m*\u001b[39m\u001b[38;5;241m*\u001b[39mkwds)\n\u001b[0;32m    577\u001b[0m \u001b[38;5;28;01mif\u001b[39;00m chunksize \u001b[38;5;129;01mor\u001b[39;00m iterator:\n\u001b[0;32m    578\u001b[0m     \u001b[38;5;28;01mreturn\u001b[39;00m parser\n",
      "File \u001b[1;32mC:\\ProgramData\\Anaconda3\\lib\\site-packages\\pandas\\io\\parsers\\readers.py:932\u001b[0m, in \u001b[0;36mTextFileReader.__init__\u001b[1;34m(self, f, engine, **kwds)\u001b[0m\n\u001b[0;32m    929\u001b[0m     \u001b[38;5;28mself\u001b[39m\u001b[38;5;241m.\u001b[39moptions[\u001b[38;5;124m\"\u001b[39m\u001b[38;5;124mhas_index_names\u001b[39m\u001b[38;5;124m\"\u001b[39m] \u001b[38;5;241m=\u001b[39m kwds[\u001b[38;5;124m\"\u001b[39m\u001b[38;5;124mhas_index_names\u001b[39m\u001b[38;5;124m\"\u001b[39m]\n\u001b[0;32m    931\u001b[0m \u001b[38;5;28mself\u001b[39m\u001b[38;5;241m.\u001b[39mhandles: IOHandles \u001b[38;5;241m|\u001b[39m \u001b[38;5;28;01mNone\u001b[39;00m \u001b[38;5;241m=\u001b[39m \u001b[38;5;28;01mNone\u001b[39;00m\n\u001b[1;32m--> 932\u001b[0m \u001b[38;5;28mself\u001b[39m\u001b[38;5;241m.\u001b[39m_engine \u001b[38;5;241m=\u001b[39m \u001b[38;5;28;43mself\u001b[39;49m\u001b[38;5;241;43m.\u001b[39;49m\u001b[43m_make_engine\u001b[49m\u001b[43m(\u001b[49m\u001b[43mf\u001b[49m\u001b[43m,\u001b[49m\u001b[43m \u001b[49m\u001b[38;5;28;43mself\u001b[39;49m\u001b[38;5;241;43m.\u001b[39;49m\u001b[43mengine\u001b[49m\u001b[43m)\u001b[49m\n",
      "File \u001b[1;32mC:\\ProgramData\\Anaconda3\\lib\\site-packages\\pandas\\io\\parsers\\readers.py:1216\u001b[0m, in \u001b[0;36mTextFileReader._make_engine\u001b[1;34m(self, f, engine)\u001b[0m\n\u001b[0;32m   1212\u001b[0m     mode \u001b[38;5;241m=\u001b[39m \u001b[38;5;124m\"\u001b[39m\u001b[38;5;124mrb\u001b[39m\u001b[38;5;124m\"\u001b[39m\n\u001b[0;32m   1213\u001b[0m \u001b[38;5;66;03m# error: No overload variant of \"get_handle\" matches argument types\u001b[39;00m\n\u001b[0;32m   1214\u001b[0m \u001b[38;5;66;03m# \"Union[str, PathLike[str], ReadCsvBuffer[bytes], ReadCsvBuffer[str]]\"\u001b[39;00m\n\u001b[0;32m   1215\u001b[0m \u001b[38;5;66;03m# , \"str\", \"bool\", \"Any\", \"Any\", \"Any\", \"Any\", \"Any\"\u001b[39;00m\n\u001b[1;32m-> 1216\u001b[0m \u001b[38;5;28mself\u001b[39m\u001b[38;5;241m.\u001b[39mhandles \u001b[38;5;241m=\u001b[39m \u001b[43mget_handle\u001b[49m\u001b[43m(\u001b[49m\u001b[43m  \u001b[49m\u001b[38;5;66;43;03m# type: ignore[call-overload]\u001b[39;49;00m\n\u001b[0;32m   1217\u001b[0m \u001b[43m    \u001b[49m\u001b[43mf\u001b[49m\u001b[43m,\u001b[49m\n\u001b[0;32m   1218\u001b[0m \u001b[43m    \u001b[49m\u001b[43mmode\u001b[49m\u001b[43m,\u001b[49m\n\u001b[0;32m   1219\u001b[0m \u001b[43m    \u001b[49m\u001b[43mencoding\u001b[49m\u001b[38;5;241;43m=\u001b[39;49m\u001b[38;5;28;43mself\u001b[39;49m\u001b[38;5;241;43m.\u001b[39;49m\u001b[43moptions\u001b[49m\u001b[38;5;241;43m.\u001b[39;49m\u001b[43mget\u001b[49m\u001b[43m(\u001b[49m\u001b[38;5;124;43m\"\u001b[39;49m\u001b[38;5;124;43mencoding\u001b[39;49m\u001b[38;5;124;43m\"\u001b[39;49m\u001b[43m,\u001b[49m\u001b[43m \u001b[49m\u001b[38;5;28;43;01mNone\u001b[39;49;00m\u001b[43m)\u001b[49m\u001b[43m,\u001b[49m\n\u001b[0;32m   1220\u001b[0m \u001b[43m    \u001b[49m\u001b[43mcompression\u001b[49m\u001b[38;5;241;43m=\u001b[39;49m\u001b[38;5;28;43mself\u001b[39;49m\u001b[38;5;241;43m.\u001b[39;49m\u001b[43moptions\u001b[49m\u001b[38;5;241;43m.\u001b[39;49m\u001b[43mget\u001b[49m\u001b[43m(\u001b[49m\u001b[38;5;124;43m\"\u001b[39;49m\u001b[38;5;124;43mcompression\u001b[39;49m\u001b[38;5;124;43m\"\u001b[39;49m\u001b[43m,\u001b[49m\u001b[43m \u001b[49m\u001b[38;5;28;43;01mNone\u001b[39;49;00m\u001b[43m)\u001b[49m\u001b[43m,\u001b[49m\n\u001b[0;32m   1221\u001b[0m \u001b[43m    \u001b[49m\u001b[43mmemory_map\u001b[49m\u001b[38;5;241;43m=\u001b[39;49m\u001b[38;5;28;43mself\u001b[39;49m\u001b[38;5;241;43m.\u001b[39;49m\u001b[43moptions\u001b[49m\u001b[38;5;241;43m.\u001b[39;49m\u001b[43mget\u001b[49m\u001b[43m(\u001b[49m\u001b[38;5;124;43m\"\u001b[39;49m\u001b[38;5;124;43mmemory_map\u001b[39;49m\u001b[38;5;124;43m\"\u001b[39;49m\u001b[43m,\u001b[49m\u001b[43m \u001b[49m\u001b[38;5;28;43;01mFalse\u001b[39;49;00m\u001b[43m)\u001b[49m\u001b[43m,\u001b[49m\n\u001b[0;32m   1222\u001b[0m \u001b[43m    \u001b[49m\u001b[43mis_text\u001b[49m\u001b[38;5;241;43m=\u001b[39;49m\u001b[43mis_text\u001b[49m\u001b[43m,\u001b[49m\n\u001b[0;32m   1223\u001b[0m \u001b[43m    \u001b[49m\u001b[43merrors\u001b[49m\u001b[38;5;241;43m=\u001b[39;49m\u001b[38;5;28;43mself\u001b[39;49m\u001b[38;5;241;43m.\u001b[39;49m\u001b[43moptions\u001b[49m\u001b[38;5;241;43m.\u001b[39;49m\u001b[43mget\u001b[49m\u001b[43m(\u001b[49m\u001b[38;5;124;43m\"\u001b[39;49m\u001b[38;5;124;43mencoding_errors\u001b[39;49m\u001b[38;5;124;43m\"\u001b[39;49m\u001b[43m,\u001b[49m\u001b[43m \u001b[49m\u001b[38;5;124;43m\"\u001b[39;49m\u001b[38;5;124;43mstrict\u001b[39;49m\u001b[38;5;124;43m\"\u001b[39;49m\u001b[43m)\u001b[49m\u001b[43m,\u001b[49m\n\u001b[0;32m   1224\u001b[0m \u001b[43m    \u001b[49m\u001b[43mstorage_options\u001b[49m\u001b[38;5;241;43m=\u001b[39;49m\u001b[38;5;28;43mself\u001b[39;49m\u001b[38;5;241;43m.\u001b[39;49m\u001b[43moptions\u001b[49m\u001b[38;5;241;43m.\u001b[39;49m\u001b[43mget\u001b[49m\u001b[43m(\u001b[49m\u001b[38;5;124;43m\"\u001b[39;49m\u001b[38;5;124;43mstorage_options\u001b[39;49m\u001b[38;5;124;43m\"\u001b[39;49m\u001b[43m,\u001b[49m\u001b[43m \u001b[49m\u001b[38;5;28;43;01mNone\u001b[39;49;00m\u001b[43m)\u001b[49m\u001b[43m,\u001b[49m\n\u001b[0;32m   1225\u001b[0m \u001b[43m\u001b[49m\u001b[43m)\u001b[49m\n\u001b[0;32m   1226\u001b[0m \u001b[38;5;28;01massert\u001b[39;00m \u001b[38;5;28mself\u001b[39m\u001b[38;5;241m.\u001b[39mhandles \u001b[38;5;129;01mis\u001b[39;00m \u001b[38;5;129;01mnot\u001b[39;00m \u001b[38;5;28;01mNone\u001b[39;00m\n\u001b[0;32m   1227\u001b[0m f \u001b[38;5;241m=\u001b[39m \u001b[38;5;28mself\u001b[39m\u001b[38;5;241m.\u001b[39mhandles\u001b[38;5;241m.\u001b[39mhandle\n",
      "File \u001b[1;32mC:\\ProgramData\\Anaconda3\\lib\\site-packages\\pandas\\io\\common.py:786\u001b[0m, in \u001b[0;36mget_handle\u001b[1;34m(path_or_buf, mode, encoding, compression, memory_map, is_text, errors, storage_options)\u001b[0m\n\u001b[0;32m    781\u001b[0m \u001b[38;5;28;01melif\u001b[39;00m \u001b[38;5;28misinstance\u001b[39m(handle, \u001b[38;5;28mstr\u001b[39m):\n\u001b[0;32m    782\u001b[0m     \u001b[38;5;66;03m# Check whether the filename is to be opened in binary mode.\u001b[39;00m\n\u001b[0;32m    783\u001b[0m     \u001b[38;5;66;03m# Binary mode does not support 'encoding' and 'newline'.\u001b[39;00m\n\u001b[0;32m    784\u001b[0m     \u001b[38;5;28;01mif\u001b[39;00m ioargs\u001b[38;5;241m.\u001b[39mencoding \u001b[38;5;129;01mand\u001b[39;00m \u001b[38;5;124m\"\u001b[39m\u001b[38;5;124mb\u001b[39m\u001b[38;5;124m\"\u001b[39m \u001b[38;5;129;01mnot\u001b[39;00m \u001b[38;5;129;01min\u001b[39;00m ioargs\u001b[38;5;241m.\u001b[39mmode:\n\u001b[0;32m    785\u001b[0m         \u001b[38;5;66;03m# Encoding\u001b[39;00m\n\u001b[1;32m--> 786\u001b[0m         handle \u001b[38;5;241m=\u001b[39m \u001b[38;5;28;43mopen\u001b[39;49m\u001b[43m(\u001b[49m\n\u001b[0;32m    787\u001b[0m \u001b[43m            \u001b[49m\u001b[43mhandle\u001b[49m\u001b[43m,\u001b[49m\n\u001b[0;32m    788\u001b[0m \u001b[43m            \u001b[49m\u001b[43mioargs\u001b[49m\u001b[38;5;241;43m.\u001b[39;49m\u001b[43mmode\u001b[49m\u001b[43m,\u001b[49m\n\u001b[0;32m    789\u001b[0m \u001b[43m            \u001b[49m\u001b[43mencoding\u001b[49m\u001b[38;5;241;43m=\u001b[39;49m\u001b[43mioargs\u001b[49m\u001b[38;5;241;43m.\u001b[39;49m\u001b[43mencoding\u001b[49m\u001b[43m,\u001b[49m\n\u001b[0;32m    790\u001b[0m \u001b[43m            \u001b[49m\u001b[43merrors\u001b[49m\u001b[38;5;241;43m=\u001b[39;49m\u001b[43merrors\u001b[49m\u001b[43m,\u001b[49m\n\u001b[0;32m    791\u001b[0m \u001b[43m            \u001b[49m\u001b[43mnewline\u001b[49m\u001b[38;5;241;43m=\u001b[39;49m\u001b[38;5;124;43m\"\u001b[39;49m\u001b[38;5;124;43m\"\u001b[39;49m\u001b[43m,\u001b[49m\n\u001b[0;32m    792\u001b[0m \u001b[43m        \u001b[49m\u001b[43m)\u001b[49m\n\u001b[0;32m    793\u001b[0m     \u001b[38;5;28;01melse\u001b[39;00m:\n\u001b[0;32m    794\u001b[0m         \u001b[38;5;66;03m# Binary mode\u001b[39;00m\n\u001b[0;32m    795\u001b[0m         handle \u001b[38;5;241m=\u001b[39m \u001b[38;5;28mopen\u001b[39m(handle, ioargs\u001b[38;5;241m.\u001b[39mmode)\n",
      "\u001b[1;31mFileNotFoundError\u001b[0m: [Errno 2] No such file or directory: 'F:\\\\Libraries\\\\Documents\\\\ALL\\\\School\\\\Masters\\\\Courses\\\\COEN6321_evolutionary_computing\\\\Assignments\\\\asg2\\\\AdultCensusPrediction\\\\notebooks\\\\data\\\\adult.data'"
     ]
    }
   ],
   "source": [
    "adult_data = pd.read_csv(DATA_PATH, names=[\n",
    "    \"age\", \"workclass\", \"fnlwgt\", \"education\",\n",
    "    \"education-num\", \"marital-status\", \"occupation\",\n",
    "    \"relationship\", \"race\", \"sex\", \"capital-gain\",\n",
    "    \"capital-loss\", \"hours-per-week\", \"native-country\",\n",
    "    \"salary\"\n",
    "])\n",
    "\n",
    "adult_test = pd.read_csv(TEST_PATH, names=[\n",
    "    \"age\", \"workclass\", \"fnlwgt\", \"education\",\n",
    "    \"education-num\", \"marital-status\", \"occupation\",\n",
    "    \"relationship\", \"race\", \"sex\", \"capital-gain\",\n",
    "    \"capital-loss\", \"hours-per-week\", \"native-country\",\n",
    "    \"salary\"\n",
    "])\n",
    "\n",
    "# Drop first row of adult_test\n",
    "# adult_test.drop(labels=0, axis=0, inplace=True)"
   ]
  },
  {
   "cell_type": "code",
   "execution_count": null,
   "id": "cc70753e",
   "metadata": {},
   "outputs": [],
   "source": [
    "adult_data.head()"
   ]
  },
  {
   "cell_type": "code",
   "execution_count": null,
   "id": "49db3869",
   "metadata": {},
   "outputs": [],
   "source": [
    "adult_data.info()"
   ]
  },
  {
   "cell_type": "code",
   "execution_count": null,
   "id": "5e021779",
   "metadata": {},
   "outputs": [],
   "source": [
    "adult_test.info()"
   ]
  },
  {
   "cell_type": "code",
   "execution_count": null,
   "id": "bb6666c1",
   "metadata": {},
   "outputs": [],
   "source": [
    "adult_data[\"salary\"].hist()"
   ]
  },
  {
   "cell_type": "code",
   "execution_count": null,
   "id": "571aae22",
   "metadata": {},
   "outputs": [],
   "source": [
    "adult_test[\"salary\"].hist()"
   ]
  },
  {
   "cell_type": "markdown",
   "id": "21990581",
   "metadata": {},
   "source": [
    "**Age**"
   ]
  },
  {
   "cell_type": "markdown",
   "id": "14d98f35",
   "metadata": {},
   "source": [
    "Check for missing values (denoted as ? in dataset)"
   ]
  },
  {
   "cell_type": "code",
   "execution_count": null,
   "id": "135aea9c",
   "metadata": {},
   "outputs": [],
   "source": [
    "adult_data.loc[adult_data[\"age\"] == '?'].count().sum()"
   ]
  },
  {
   "cell_type": "code",
   "execution_count": null,
   "id": "a249508d",
   "metadata": {},
   "outputs": [],
   "source": [
    "adult_test.loc[adult_data[\"age\"] == '?'].count().sum()"
   ]
  },
  {
   "cell_type": "code",
   "execution_count": null,
   "id": "9f5732cd",
   "metadata": {},
   "outputs": [],
   "source": [
    "# Cast adult_test age to int64\n",
    "adult_test[\"age\"] = adult_test[\"age\"].astype(np.int64) "
   ]
  },
  {
   "cell_type": "markdown",
   "id": "2686a6e2",
   "metadata": {},
   "source": [
    "**workclass**"
   ]
  },
  {
   "cell_type": "code",
   "execution_count": null,
   "id": "2f7cc986",
   "metadata": {},
   "outputs": [],
   "source": [
    "adult_data[\"workclass\"].unique()"
   ]
  },
  {
   "cell_type": "code",
   "execution_count": null,
   "id": "d3fc19fb",
   "metadata": {},
   "outputs": [],
   "source": [
    "adult_data[\"workclass\"].value_counts()"
   ]
  },
  {
   "cell_type": "code",
   "execution_count": null,
   "id": "84582ea5",
   "metadata": {},
   "outputs": [],
   "source": [
    "adult_test[\"workclass\"].value_counts()"
   ]
  },
  {
   "cell_type": "markdown",
   "id": "6ec0f26e",
   "metadata": {},
   "source": [
    "I think we have more than enough data to be able to drop all ? classes"
   ]
  },
  {
   "cell_type": "code",
   "execution_count": null,
   "id": "55200e27",
   "metadata": {},
   "outputs": [],
   "source": [
    "adult_data[adult_data[\"workclass\"].str.contains('\\?')][\"salary\"].hist()"
   ]
  },
  {
   "cell_type": "markdown",
   "id": "3b4e8ffc",
   "metadata": {},
   "source": [
    "The distribution of the rows we want to remove are similar to the distr of the pop as a whole (in terms of labels) so it should be ok."
   ]
  },
  {
   "cell_type": "code",
   "execution_count": null,
   "id": "2f0f2bca",
   "metadata": {},
   "outputs": [],
   "source": [
    "adult_test[adult_test[\"workclass\"].str.contains('\\?')][\"salary\"].hist()"
   ]
  },
  {
   "cell_type": "markdown",
   "id": "91dbf88c",
   "metadata": {},
   "source": [
    "**fnlweight**"
   ]
  },
  {
   "cell_type": "markdown",
   "id": "f5fe1fd8",
   "metadata": {},
   "source": [
    "Description of fnlweight:  \n",
    "\n",
    "Description of fnlwgt (final weight)  \n",
    "<br>\n",
    "The weights on the CPS files are controlled to independent estimates of the  \n",
    "civilian noninstitutional population of the US.  These are prepared monthly  \n",
    "for us by Population Division here at the Census Bureau.  We use 3 sets of\n",
    "controls.  \n",
    "<br>\n",
    "These are:  \n",
    "         1.  A single cell estimate of the population 16+ for each state.  \n",
    "         2.  Controls for Hispanic Origin by age and sex.  \n",
    "         3.  Controls by Race, age and sex.  \n",
    "We use all three sets of controls in our weighting program and \"rake\" through  \n",
    "them 6 times so that by the end we come back to all the controls we used.  \n",
    "<br>\n",
    "The term estimate refers to population totals derived from CPS by creating  \n",
    "\"weighted tallies\" of any specified socio-economic characteristics of the  \n",
    "population.  \n",
    "<br>\n",
    "People with similar demographic characteristics should have  \n",
    "similar weights.  There is one important caveat to remember  \n",
    "about this statement.  That is that since the CPS sample is  \n",
    "actually a collection of 51 state samples, each with its own  \n",
    "probability of selection, the statement only applies within  \n",
    "state.  \n",
    "\n",
    "\n",
    "*So we need to figure out a way to only consider fnweight on state by state basis. Maybe standardize per state?*"
   ]
  },
  {
   "cell_type": "code",
   "execution_count": null,
   "id": "04b69e06",
   "metadata": {},
   "outputs": [],
   "source": [
    "# adult_test has fnlweight as float instead of int, we need to change that\n",
    "adult_test[\"fnlwgt\"] = adult_test[\"fnlwgt\"].astype(np.int64)"
   ]
  },
  {
   "cell_type": "code",
   "execution_count": null,
   "id": "6c19c366",
   "metadata": {},
   "outputs": [],
   "source": [
    "adult_data[\"fnlwgt\"].isna().sum()"
   ]
  },
  {
   "cell_type": "code",
   "execution_count": null,
   "id": "9bff9945",
   "metadata": {},
   "outputs": [],
   "source": [
    "adult_test[\"fnlwgt\"].isna().sum()"
   ]
  },
  {
   "cell_type": "code",
   "execution_count": null,
   "id": "7e1e1640",
   "metadata": {},
   "outputs": [],
   "source": [
    "adult_data[\"fnlwgt\"].hist(bins=100)"
   ]
  },
  {
   "cell_type": "code",
   "execution_count": null,
   "id": "79ea6ea7",
   "metadata": {},
   "outputs": [],
   "source": [
    "adult_test[\"fnlwgt\"].hist(bins=100)"
   ]
  },
  {
   "cell_type": "markdown",
   "id": "ed863999",
   "metadata": {},
   "source": [
    "**education**"
   ]
  },
  {
   "cell_type": "code",
   "execution_count": null,
   "id": "c8cbc751",
   "metadata": {},
   "outputs": [],
   "source": [
    "adult_data[\"education\"].value_counts()"
   ]
  },
  {
   "cell_type": "code",
   "execution_count": null,
   "id": "5bd61e61",
   "metadata": {},
   "outputs": [],
   "source": [
    "adult_data[\"education\"].isna().sum()"
   ]
  },
  {
   "cell_type": "code",
   "execution_count": null,
   "id": "58d7b1f2",
   "metadata": {},
   "outputs": [],
   "source": [
    "adult_test[\"education\"].value_counts()"
   ]
  },
  {
   "cell_type": "code",
   "execution_count": null,
   "id": "046b1083",
   "metadata": {},
   "outputs": [],
   "source": [
    "adult_test[\"education\"].isna().sum()"
   ]
  },
  {
   "cell_type": "markdown",
   "id": "c83112a8",
   "metadata": {},
   "source": [
    "**education_num**"
   ]
  },
  {
   "cell_type": "code",
   "execution_count": null,
   "id": "3403bba8",
   "metadata": {},
   "outputs": [],
   "source": [
    "grouped_adult = adult_data.groupby(\"education-num\")\n",
    "for group in grouped_adult:\n",
    "    print(group[0])\n",
    "    print(group[1][\"education\"].unique())"
   ]
  },
  {
   "cell_type": "code",
   "execution_count": null,
   "id": "99f1fe87",
   "metadata": {},
   "outputs": [],
   "source": [
    "# So we can simply drop education, since education level already encodes for it"
   ]
  },
  {
   "cell_type": "code",
   "execution_count": null,
   "id": "333d880e",
   "metadata": {},
   "outputs": [],
   "source": [
    "grouped_adult_test = adult_test.groupby(\"education-num\")\n",
    "for group in grouped_adult:\n",
    "    print(group[0])\n",
    "    print(group[1][\"education\"].unique())"
   ]
  },
  {
   "cell_type": "markdown",
   "id": "9ac28a66",
   "metadata": {},
   "source": [
    "**marital-status**"
   ]
  },
  {
   "cell_type": "markdown",
   "id": "11307223",
   "metadata": {},
   "source": [
    "If we want to perform feature reduction, we can probably do things like combining separated and married-spouse-absent or something. Though we might be losing some interesting information by doing that."
   ]
  },
  {
   "cell_type": "code",
   "execution_count": null,
   "id": "301046f8",
   "metadata": {},
   "outputs": [],
   "source": [
    "adult_data[\"marital-status\"].unique()"
   ]
  },
  {
   "cell_type": "code",
   "execution_count": null,
   "id": "4aa57b05",
   "metadata": {},
   "outputs": [],
   "source": [
    "adult_data[\"marital-status\"].isna().sum()"
   ]
  },
  {
   "cell_type": "code",
   "execution_count": null,
   "id": "cbbc846c",
   "metadata": {},
   "outputs": [],
   "source": [
    "adult_test[\"marital-status\"].unique()"
   ]
  },
  {
   "cell_type": "code",
   "execution_count": null,
   "id": "9cf51fdb",
   "metadata": {},
   "outputs": [],
   "source": [
    "adult_test[\"marital-status\"].isna().sum()"
   ]
  },
  {
   "cell_type": "markdown",
   "id": "1038ac77",
   "metadata": {},
   "source": [
    "**occupation**"
   ]
  },
  {
   "cell_type": "code",
   "execution_count": null,
   "id": "00259642",
   "metadata": {},
   "outputs": [],
   "source": [
    "adult_data[\"occupation\"].unique()"
   ]
  },
  {
   "cell_type": "code",
   "execution_count": null,
   "id": "479b92c5",
   "metadata": {},
   "outputs": [],
   "source": [
    "adult_data[adult_data[\"occupation\"].str.contains('\\?')][\"salary\"].hist()"
   ]
  },
  {
   "cell_type": "code",
   "execution_count": null,
   "id": "98ade780",
   "metadata": {},
   "outputs": [],
   "source": [
    "adult_test[\"occupation\"].unique()"
   ]
  },
  {
   "cell_type": "code",
   "execution_count": null,
   "id": "e0dd0b80",
   "metadata": {},
   "outputs": [],
   "source": [
    "adult_test[adult_test[\"occupation\"].str.contains('\\?')][\"salary\"].hist()"
   ]
  },
  {
   "cell_type": "markdown",
   "id": "90b7db35",
   "metadata": {},
   "source": [
    "We can drop all the ?"
   ]
  },
  {
   "cell_type": "markdown",
   "id": "f47cac07",
   "metadata": {},
   "source": [
    "**relationship**"
   ]
  },
  {
   "cell_type": "code",
   "execution_count": null,
   "id": "2947e8ef",
   "metadata": {},
   "outputs": [],
   "source": [
    "adult_data[\"relationship\"].unique()"
   ]
  },
  {
   "cell_type": "code",
   "execution_count": null,
   "id": "d2ec6a12",
   "metadata": {},
   "outputs": [],
   "source": [
    "adult_data[\"relationship\"].value_counts()"
   ]
  },
  {
   "cell_type": "code",
   "execution_count": null,
   "id": "e21af8a5",
   "metadata": {},
   "outputs": [],
   "source": [
    "adult_test[\"relationship\"].unique()"
   ]
  },
  {
   "cell_type": "code",
   "execution_count": null,
   "id": "9d3c5340",
   "metadata": {},
   "outputs": [],
   "source": [
    "adult_test[\"relationship\"].value_counts()"
   ]
  },
  {
   "cell_type": "markdown",
   "id": "e581b673",
   "metadata": {},
   "source": [
    "**race**"
   ]
  },
  {
   "cell_type": "code",
   "execution_count": null,
   "id": "3d111831",
   "metadata": {},
   "outputs": [],
   "source": [
    "adult_data[\"race\"].value_counts()"
   ]
  },
  {
   "cell_type": "markdown",
   "id": "8860e963",
   "metadata": {},
   "source": [
    "No need to drop ?"
   ]
  },
  {
   "cell_type": "code",
   "execution_count": null,
   "id": "367627a3",
   "metadata": {},
   "outputs": [],
   "source": [
    "adult_test[\"race\"].value_counts()"
   ]
  },
  {
   "cell_type": "markdown",
   "id": "e766ab11",
   "metadata": {},
   "source": [
    "**sex**"
   ]
  },
  {
   "cell_type": "code",
   "execution_count": null,
   "id": "109e892b",
   "metadata": {},
   "outputs": [],
   "source": [
    "adult_data[\"sex\"].value_counts()"
   ]
  },
  {
   "cell_type": "code",
   "execution_count": null,
   "id": "6c08cb18",
   "metadata": {},
   "outputs": [],
   "source": [
    "adult_test[\"sex\"].value_counts()"
   ]
  },
  {
   "cell_type": "markdown",
   "id": "0ba73703",
   "metadata": {},
   "source": [
    "**capital-gain**"
   ]
  },
  {
   "cell_type": "code",
   "execution_count": null,
   "id": "21a2bf66",
   "metadata": {},
   "outputs": [],
   "source": [
    "adult_data[\"capital-gain\"].isna().sum()"
   ]
  },
  {
   "cell_type": "code",
   "execution_count": null,
   "id": "09cf9738",
   "metadata": {},
   "outputs": [],
   "source": [
    "adult_test[\"capital-gain\"].isna().sum()"
   ]
  },
  {
   "cell_type": "markdown",
   "id": "f97e517a",
   "metadata": {},
   "source": [
    "**capital-loss**"
   ]
  },
  {
   "cell_type": "code",
   "execution_count": null,
   "id": "be40c13f",
   "metadata": {},
   "outputs": [],
   "source": [
    "adult_data[\"capital-loss\"].isna().sum()"
   ]
  },
  {
   "cell_type": "code",
   "execution_count": null,
   "id": "30d302b8",
   "metadata": {},
   "outputs": [],
   "source": [
    "adult_test[\"capital-loss\"].isna().sum()"
   ]
  },
  {
   "cell_type": "code",
   "execution_count": null,
   "id": "395f6264",
   "metadata": {},
   "outputs": [],
   "source": [
    "adult_data[\"capital-loss\"].describe()"
   ]
  },
  {
   "cell_type": "code",
   "execution_count": null,
   "id": "352dc645",
   "metadata": {},
   "outputs": [],
   "source": [
    "adult_test[\"capital-loss\"].describe()"
   ]
  },
  {
   "cell_type": "markdown",
   "id": "608662d0",
   "metadata": {},
   "source": [
    "**hours-per-week**"
   ]
  },
  {
   "cell_type": "code",
   "execution_count": null,
   "id": "f26e6d94",
   "metadata": {},
   "outputs": [],
   "source": [
    "adult_data[\"hours-per-week\"].isna().sum()"
   ]
  },
  {
   "cell_type": "code",
   "execution_count": null,
   "id": "6587b0ad",
   "metadata": {},
   "outputs": [],
   "source": [
    "adult_data[\"hours-per-week\"].describe()"
   ]
  },
  {
   "cell_type": "code",
   "execution_count": null,
   "id": "82d2d151",
   "metadata": {},
   "outputs": [],
   "source": [
    "adult_test[\"hours-per-week\"].isna().sum()"
   ]
  },
  {
   "cell_type": "code",
   "execution_count": null,
   "id": "d75e216a",
   "metadata": {},
   "outputs": [],
   "source": [
    "adult_test[\"hours-per-week\"].describe()"
   ]
  },
  {
   "cell_type": "markdown",
   "id": "92ca6fc3",
   "metadata": {},
   "source": [
    "**native-country**"
   ]
  },
  {
   "cell_type": "code",
   "execution_count": null,
   "id": "9bb29be4",
   "metadata": {},
   "outputs": [],
   "source": [
    "adult_data[\"native-country\"].value_counts()"
   ]
  },
  {
   "cell_type": "code",
   "execution_count": null,
   "id": "93a74253",
   "metadata": {},
   "outputs": [],
   "source": [
    "adult_data[adult_data[\"native-country\"].str.contains('\\?')][\"salary\"].hist()"
   ]
  },
  {
   "cell_type": "code",
   "execution_count": null,
   "id": "d9b229f9",
   "metadata": {},
   "outputs": [],
   "source": [
    "adult_test[adult_test[\"native-country\"].str.contains('\\?')][\"salary\"].hist()"
   ]
  },
  {
   "cell_type": "markdown",
   "id": "327e4b7e",
   "metadata": {},
   "source": [
    "# Preprocessing/Cleaning"
   ]
  },
  {
   "cell_type": "code",
   "execution_count": null,
   "id": "ccbbb6f7",
   "metadata": {},
   "outputs": [],
   "source": [
    "\n",
    "def clean_adult(df):\n",
    "    \"\"\"\n",
    "    Used to clean both the adult.data and the adult.test files.\n",
    "    \n",
    "    Columns must be renamed on import.\n",
    "    \"\"\"\n",
    "\n",
    "    adf = df.copy()\n",
    "    \n",
    "    # Replace ? with np.nan\n",
    "    adf.replace({\"\\?\":np.nan}, regex=True, inplace=True)\n",
    "    \n",
    "    # Drop all rows with nans\n",
    "    before = len(adf)\n",
    "    adf.dropna(axis=0, inplace=True)\n",
    "    after = len(adf)\n",
    "    print(\"{} rows dropped due to missing data.\".format(before - after))\n",
    "    \n",
    "    # Make sure all datatypes are properly set\n",
    "    adf[\"age\"] = adf[\"age\"].astype(np.int64)\n",
    "    adf[\"fnlwgt\"] = adf[\"fnlwgt\"].astype(np.int64)\n",
    "    adf[\"education-num\"] = adf[\"education-num\"].astype(np.int64)\n",
    "    adf[\"capital-gain\"] = adf[\"capital-gain\"].astype(np.int64)\n",
    "    adf[\"capital-loss\"] = adf[\"capital-loss\"].astype(np.int64)\n",
    "    adf[\"hours-per-week\"] = adf[\"hours-per-week\"].astype(np.int64)\n",
    "    \n",
    "    return adf\n",
    "\n",
    "\n",
    "def preprocess(df, one_hot=[], to_drop=['education'], scale=[]):\n",
    "    \"\"\"\n",
    "    Performs the relevant transforms on the data to prepare it for use with a model.\n",
    "    \"\"\"\n",
    "    \n",
    "    adf = df.copy()\n",
    "    \n",
    "    # Convert the labels for salary to 1 and 0\n",
    "    adf[\"salary\"].replace({\"<=50K\":0, \">50K\":1}, regex=True, inplace=True)\n",
    "    \n",
    "    # Drop the education column since it is already accounted for in education-num\n",
    "    if to_drop:\n",
    "        adf.drop(to_drop, axis=1, inplace=True)\n",
    "\n",
    "    # One hot encode all columns in one_hot\n",
    "    for col in one_hot:\n",
    "        if col in adf.columns:\n",
    "            temp = pd.get_dummies(adf[col])\n",
    "            adf = adf.drop(col, axis=1)\n",
    "            adf = adf.join(temp)\n",
    "    \n",
    "    # Scale the desired columns (center values around the column mean and std)\n",
    "    if scale:\n",
    "        scaler = StandardScaler()\n",
    "        adf[scale] = scaler.fit_transform(adf[scale])\n",
    "    \n",
    "    return adf"
   ]
  },
  {
   "cell_type": "code",
   "execution_count": 14,
   "id": "18bc8ace",
   "metadata": {},
   "outputs": [],
   "source": [
    "# We cant always reliably get the path the ipynb is in, so cwd is the hacky workaround\n",
    "cwd = Path().absolute()\n",
    "DATA_DIR = cwd.parent / \"data\"\n",
    "DATA_PATH = DATA_DIR / \"adult.data\"\n",
    "TEST_PATH = DATA_DIR / \"adult.test\""
   ]
  },
  {
   "cell_type": "code",
   "execution_count": 15,
   "id": "c51db40b",
   "metadata": {},
   "outputs": [
    {
     "name": "stdout",
     "output_type": "stream",
     "text": [
      "F:\\Libraries\\Documents\\ALL\\School\\Masters\\Courses\\COEN6321_evolutionary_computing\\Assignments\\asg2\\AdultCensusPrediction\\data\n"
     ]
    }
   ],
   "source": [
    "print(DATA_DIR)"
   ]
  },
  {
   "cell_type": "code",
   "execution_count": 16,
   "id": "a7d00c1c",
   "metadata": {},
   "outputs": [],
   "source": [
    "adult_data = pd.read_csv(DATA_PATH, names=[\n",
    "    \"age\", \"workclass\", \"fnlwgt\", \"education\",\n",
    "    \"education-num\", \"marital-status\", \"occupation\",\n",
    "    \"relationship\", \"race\", \"sex\", \"capital-gain\",\n",
    "    \"capital-loss\", \"hours-per-week\", \"native-country\",\n",
    "    \"salary\"\n",
    "])\n",
    "\n",
    "adult_test = pd.read_csv(TEST_PATH, names=[\n",
    "    \"age\", \"workclass\", \"fnlwgt\", \"education\",\n",
    "    \"education-num\", \"marital-status\", \"occupation\",\n",
    "    \"relationship\", \"race\", \"sex\", \"capital-gain\",\n",
    "    \"capital-loss\", \"hours-per-week\", \"native-country\",\n",
    "    \"salary\"\n",
    "])\n"
   ]
  },
  {
   "cell_type": "code",
   "execution_count": 29,
   "id": "ef2b7be2",
   "metadata": {},
   "outputs": [],
   "source": [
    "adult_data.replace({\"\\?\":np.nan}, regex=True, inplace=True)\n",
    "adult_test.replace({\"\\?\":np.nan}, regex=True, inplace=True)"
   ]
  },
  {
   "cell_type": "code",
   "execution_count": 30,
   "id": "318f200c",
   "metadata": {},
   "outputs": [],
   "source": [
    "na_free_d = adult_data.dropna()\n",
    "only_na_d = adult_data[~adult_data.index.isin(na_free_d.index)]"
   ]
  },
  {
   "cell_type": "code",
   "execution_count": 31,
   "id": "ad260002",
   "metadata": {},
   "outputs": [],
   "source": [
    "na_free_t = adult_test.dropna()\n",
    "only_na_t = adult_test[~adult_test.index.isin(na_free_t.index)]"
   ]
  },
  {
   "cell_type": "code",
   "execution_count": 32,
   "id": "61802aac",
   "metadata": {},
   "outputs": [],
   "source": [
    "na_combined = pd.concat([only_na_t, only_na_d], ignore_index=True, axis='index')"
   ]
  },
  {
   "cell_type": "code",
   "execution_count": 37,
   "id": "1e8bae73",
   "metadata": {},
   "outputs": [],
   "source": [
    "nafree_combined = pd.concat([na_free_t, na_free_d], ignore_index=True, axis='index')"
   ]
  },
  {
   "cell_type": "code",
   "execution_count": 36,
   "id": "1f661455",
   "metadata": {},
   "outputs": [
    {
     "data": {
      "text/plain": [
       "<AxesSubplot:>"
      ]
     },
     "execution_count": 36,
     "metadata": {},
     "output_type": "execute_result"
    },
    {
     "data": {
      "image/png": "[encoded data removed]",
      "text/plain": [
       "<Figure size 640x480 with 1 Axes>"
      ]
     },
     "metadata": {},
     "output_type": "display_data"
    }
   ],
   "source": [
    "na_combined[\"salary\"].hist()"
   ]
  },
  {
   "cell_type": "code",
   "execution_count": 38,
   "id": "26bcaac8",
   "metadata": {},
   "outputs": [
    {
     "data": {
      "text/plain": [
       "<AxesSubplot:>"
      ]
     },
     "execution_count": 38,
     "metadata": {},
     "output_type": "execute_result"
    },
    {
     "data": {
      "image/png": "[encoded data removed]",
      "text/plain": [
       "<Figure size 640x480 with 1 Axes>"
      ]
     },
     "metadata": {},
     "output_type": "display_data"
    }
   ],
   "source": [
    "nafree_combined[\"salary\"].hist()"
   ]
  },
  {
   "cell_type": "code",
   "execution_count": 41,
   "id": "30535cf5",
   "metadata": {},
   "outputs": [
    {
     "data": {
      "text/html": [
       "<div>\n",
       "<style scoped>\n",
       "    .dataframe tbody tr th:only-of-type {\n",
       "        vertical-align: middle;\n",
       "    }\n",
       "\n",
       "    .dataframe tbody tr th {\n",
       "        vertical-align: top;\n",
       "    }\n",
       "\n",
       "    .dataframe thead th {\n",
       "        text-align: right;\n",
       "    }\n",
       "</style>\n",
       "<table border=\"1\" class=\"dataframe\">\n",
       "  <thead>\n",
       "    <tr style=\"text-align: right;\">\n",
       "      <th></th>\n",
       "      <th>age</th>\n",
       "      <th>workclass</th>\n",
       "      <th>fnlwgt</th>\n",
       "      <th>education</th>\n",
       "      <th>education-num</th>\n",
       "      <th>marital-status</th>\n",
       "      <th>occupation</th>\n",
       "      <th>relationship</th>\n",
       "      <th>race</th>\n",
       "      <th>sex</th>\n",
       "      <th>capital-gain</th>\n",
       "      <th>capital-loss</th>\n",
       "      <th>hours-per-week</th>\n",
       "      <th>native-country</th>\n",
       "      <th>salary</th>\n",
       "    </tr>\n",
       "  </thead>\n",
       "  <tbody>\n",
       "    <tr>\n",
       "      <th>0</th>\n",
       "      <td>25</td>\n",
       "      <td>Private</td>\n",
       "      <td>226802.0</td>\n",
       "      <td>11th</td>\n",
       "      <td>7.0</td>\n",
       "      <td>Never-married</td>\n",
       "      <td>Machine-op-inspct</td>\n",
       "      <td>Own-child</td>\n",
       "      <td>Black</td>\n",
       "      <td>Male</td>\n",
       "      <td>0.0</td>\n",
       "      <td>0.0</td>\n",
       "      <td>40.0</td>\n",
       "      <td>United-States</td>\n",
       "      <td>&lt;=50K.</td>\n",
       "    </tr>\n",
       "    <tr>\n",
       "      <th>1</th>\n",
       "      <td>38</td>\n",
       "      <td>Private</td>\n",
       "      <td>89814.0</td>\n",
       "      <td>HS-grad</td>\n",
       "      <td>9.0</td>\n",
       "      <td>Married-civ-spouse</td>\n",
       "      <td>Farming-fishing</td>\n",
       "      <td>Husband</td>\n",
       "      <td>White</td>\n",
       "      <td>Male</td>\n",
       "      <td>0.0</td>\n",
       "      <td>0.0</td>\n",
       "      <td>50.0</td>\n",
       "      <td>United-States</td>\n",
       "      <td>&lt;=50K.</td>\n",
       "    </tr>\n",
       "    <tr>\n",
       "      <th>2</th>\n",
       "      <td>28</td>\n",
       "      <td>Local-gov</td>\n",
       "      <td>336951.0</td>\n",
       "      <td>Assoc-acdm</td>\n",
       "      <td>12.0</td>\n",
       "      <td>Married-civ-spouse</td>\n",
       "      <td>Protective-serv</td>\n",
       "      <td>Husband</td>\n",
       "      <td>White</td>\n",
       "      <td>Male</td>\n",
       "      <td>0.0</td>\n",
       "      <td>0.0</td>\n",
       "      <td>40.0</td>\n",
       "      <td>United-States</td>\n",
       "      <td>&gt;50K.</td>\n",
       "    </tr>\n",
       "    <tr>\n",
       "      <th>3</th>\n",
       "      <td>44</td>\n",
       "      <td>Private</td>\n",
       "      <td>160323.0</td>\n",
       "      <td>Some-college</td>\n",
       "      <td>10.0</td>\n",
       "      <td>Married-civ-spouse</td>\n",
       "      <td>Machine-op-inspct</td>\n",
       "      <td>Husband</td>\n",
       "      <td>Black</td>\n",
       "      <td>Male</td>\n",
       "      <td>7688.0</td>\n",
       "      <td>0.0</td>\n",
       "      <td>40.0</td>\n",
       "      <td>United-States</td>\n",
       "      <td>&gt;50K.</td>\n",
       "    </tr>\n",
       "    <tr>\n",
       "      <th>4</th>\n",
       "      <td>34</td>\n",
       "      <td>Private</td>\n",
       "      <td>198693.0</td>\n",
       "      <td>10th</td>\n",
       "      <td>6.0</td>\n",
       "      <td>Never-married</td>\n",
       "      <td>Other-service</td>\n",
       "      <td>Not-in-family</td>\n",
       "      <td>White</td>\n",
       "      <td>Male</td>\n",
       "      <td>0.0</td>\n",
       "      <td>0.0</td>\n",
       "      <td>30.0</td>\n",
       "      <td>United-States</td>\n",
       "      <td>&lt;=50K.</td>\n",
       "    </tr>\n",
       "    <tr>\n",
       "      <th>...</th>\n",
       "      <td>...</td>\n",
       "      <td>...</td>\n",
       "      <td>...</td>\n",
       "      <td>...</td>\n",
       "      <td>...</td>\n",
       "      <td>...</td>\n",
       "      <td>...</td>\n",
       "      <td>...</td>\n",
       "      <td>...</td>\n",
       "      <td>...</td>\n",
       "      <td>...</td>\n",
       "      <td>...</td>\n",
       "      <td>...</td>\n",
       "      <td>...</td>\n",
       "      <td>...</td>\n",
       "    </tr>\n",
       "    <tr>\n",
       "      <th>45217</th>\n",
       "      <td>27</td>\n",
       "      <td>Private</td>\n",
       "      <td>257302.0</td>\n",
       "      <td>Assoc-acdm</td>\n",
       "      <td>12.0</td>\n",
       "      <td>Married-civ-spouse</td>\n",
       "      <td>Tech-support</td>\n",
       "      <td>Wife</td>\n",
       "      <td>White</td>\n",
       "      <td>Female</td>\n",
       "      <td>0.0</td>\n",
       "      <td>0.0</td>\n",
       "      <td>38.0</td>\n",
       "      <td>United-States</td>\n",
       "      <td>&lt;=50K</td>\n",
       "    </tr>\n",
       "    <tr>\n",
       "      <th>45218</th>\n",
       "      <td>40</td>\n",
       "      <td>Private</td>\n",
       "      <td>154374.0</td>\n",
       "      <td>HS-grad</td>\n",
       "      <td>9.0</td>\n",
       "      <td>Married-civ-spouse</td>\n",
       "      <td>Machine-op-inspct</td>\n",
       "      <td>Husband</td>\n",
       "      <td>White</td>\n",
       "      <td>Male</td>\n",
       "      <td>0.0</td>\n",
       "      <td>0.0</td>\n",
       "      <td>40.0</td>\n",
       "      <td>United-States</td>\n",
       "      <td>&gt;50K</td>\n",
       "    </tr>\n",
       "    <tr>\n",
       "      <th>45219</th>\n",
       "      <td>58</td>\n",
       "      <td>Private</td>\n",
       "      <td>151910.0</td>\n",
       "      <td>HS-grad</td>\n",
       "      <td>9.0</td>\n",
       "      <td>Widowed</td>\n",
       "      <td>Adm-clerical</td>\n",
       "      <td>Unmarried</td>\n",
       "      <td>White</td>\n",
       "      <td>Female</td>\n",
       "      <td>0.0</td>\n",
       "      <td>0.0</td>\n",
       "      <td>40.0</td>\n",
       "      <td>United-States</td>\n",
       "      <td>&lt;=50K</td>\n",
       "    </tr>\n",
       "    <tr>\n",
       "      <th>45220</th>\n",
       "      <td>22</td>\n",
       "      <td>Private</td>\n",
       "      <td>201490.0</td>\n",
       "      <td>HS-grad</td>\n",
       "      <td>9.0</td>\n",
       "      <td>Never-married</td>\n",
       "      <td>Adm-clerical</td>\n",
       "      <td>Own-child</td>\n",
       "      <td>White</td>\n",
       "      <td>Male</td>\n",
       "      <td>0.0</td>\n",
       "      <td>0.0</td>\n",
       "      <td>20.0</td>\n",
       "      <td>United-States</td>\n",
       "      <td>&lt;=50K</td>\n",
       "    </tr>\n",
       "    <tr>\n",
       "      <th>45221</th>\n",
       "      <td>52</td>\n",
       "      <td>Self-emp-inc</td>\n",
       "      <td>287927.0</td>\n",
       "      <td>HS-grad</td>\n",
       "      <td>9.0</td>\n",
       "      <td>Married-civ-spouse</td>\n",
       "      <td>Exec-managerial</td>\n",
       "      <td>Wife</td>\n",
       "      <td>White</td>\n",
       "      <td>Female</td>\n",
       "      <td>15024.0</td>\n",
       "      <td>0.0</td>\n",
       "      <td>40.0</td>\n",
       "      <td>United-States</td>\n",
       "      <td>&gt;50K</td>\n",
       "    </tr>\n",
       "  </tbody>\n",
       "</table>\n",
       "<p>45222 rows × 15 columns</p>\n",
       "</div>"
      ],
      "text/plain": [
       "      age      workclass    fnlwgt      education  education-num  \\\n",
       "0      25        Private  226802.0           11th            7.0   \n",
       "1      38        Private   89814.0        HS-grad            9.0   \n",
       "2      28      Local-gov  336951.0     Assoc-acdm           12.0   \n",
       "3      44        Private  160323.0   Some-college           10.0   \n",
       "4      34        Private  198693.0           10th            6.0   \n",
       "...    ..            ...       ...            ...            ...   \n",
       "45217  27        Private  257302.0     Assoc-acdm           12.0   \n",
       "45218  40        Private  154374.0        HS-grad            9.0   \n",
       "45219  58        Private  151910.0        HS-grad            9.0   \n",
       "45220  22        Private  201490.0        HS-grad            9.0   \n",
       "45221  52   Self-emp-inc  287927.0        HS-grad            9.0   \n",
       "\n",
       "            marital-status          occupation    relationship    race  \\\n",
       "0            Never-married   Machine-op-inspct       Own-child   Black   \n",
       "1       Married-civ-spouse     Farming-fishing         Husband   White   \n",
       "2       Married-civ-spouse     Protective-serv         Husband   White   \n",
       "3       Married-civ-spouse   Machine-op-inspct         Husband   Black   \n",
       "4            Never-married       Other-service   Not-in-family   White   \n",
       "...                    ...                 ...             ...     ...   \n",
       "45217   Married-civ-spouse        Tech-support            Wife   White   \n",
       "45218   Married-civ-spouse   Machine-op-inspct         Husband   White   \n",
       "45219              Widowed        Adm-clerical       Unmarried   White   \n",
       "45220        Never-married        Adm-clerical       Own-child   White   \n",
       "45221   Married-civ-spouse     Exec-managerial            Wife   White   \n",
       "\n",
       "           sex  capital-gain  capital-loss  hours-per-week  native-country  \\\n",
       "0         Male           0.0           0.0            40.0   United-States   \n",
       "1         Male           0.0           0.0            50.0   United-States   \n",
       "2         Male           0.0           0.0            40.0   United-States   \n",
       "3         Male        7688.0           0.0            40.0   United-States   \n",
       "4         Male           0.0           0.0            30.0   United-States   \n",
       "...        ...           ...           ...             ...             ...   \n",
       "45217   Female           0.0           0.0            38.0   United-States   \n",
       "45218     Male           0.0           0.0            40.0   United-States   \n",
       "45219   Female           0.0           0.0            40.0   United-States   \n",
       "45220     Male           0.0           0.0            20.0   United-States   \n",
       "45221   Female       15024.0           0.0            40.0   United-States   \n",
       "\n",
       "        salary  \n",
       "0       <=50K.  \n",
       "1       <=50K.  \n",
       "2        >50K.  \n",
       "3        >50K.  \n",
       "4       <=50K.  \n",
       "...        ...  \n",
       "45217    <=50K  \n",
       "45218     >50K  \n",
       "45219    <=50K  \n",
       "45220    <=50K  \n",
       "45221     >50K  \n",
       "\n",
       "[45222 rows x 15 columns]"
      ]
     },
     "execution_count": 41,
     "metadata": {},
     "output_type": "execute_result"
    }
   ],
   "source": [
    "nafree_combined[nafree_combined[\"salary\"].str.contains('.')]"
   ]
  },
  {
   "cell_type": "code",
   "execution_count": null,
   "id": "51e5ce73",
   "metadata": {},
   "outputs": [],
   "source": []
  }
 ],
 "metadata": {
  "kernelspec": {
   "display_name": "Python 3 (ipykernel)",
   "language": "python",
   "name": "python3"
  },
  "language_info": {
   "codemirror_mode": {
    "name": "ipython",
    "version": 3
   },
   "file_extension": ".py",
   "mimetype": "text/x-python",
   "name": "python",
   "nbconvert_exporter": "python",
   "pygments_lexer": "ipython3",
   "version": "3.9.7"
  }
 },
 "nbformat": 4,
 "nbformat_minor": 5
}
